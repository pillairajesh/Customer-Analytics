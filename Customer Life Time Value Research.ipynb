{
 "cells": [
  {
   "cell_type": "markdown",
   "metadata": {},
   "source": [
    "## Customer Life Time Value Research \n",
    "\n",
    "### 1987 COUNTING YOUR CUSTOMERS: WHO ARE THEY AND WHAT WILL THEY DO NEXT?\n",
    "\n",
    "#### Practice\n",
    "\n"
   ]
  },
  {
   "cell_type": "code",
   "execution_count": 108,
   "metadata": {},
   "outputs": [
    {
     "data": {
      "text/html": [
       "<div>\n",
       "<style scoped>\n",
       "    .dataframe tbody tr th:only-of-type {\n",
       "        vertical-align: middle;\n",
       "    }\n",
       "\n",
       "    .dataframe tbody tr th {\n",
       "        vertical-align: top;\n",
       "    }\n",
       "\n",
       "    .dataframe thead th {\n",
       "        text-align: right;\n",
       "    }\n",
       "</style>\n",
       "<table border=\"1\" class=\"dataframe\">\n",
       "  <thead>\n",
       "    <tr style=\"text-align: right;\">\n",
       "      <th></th>\n",
       "      <th>InvoiceNo</th>\n",
       "      <th>StockCode</th>\n",
       "      <th>Description</th>\n",
       "      <th>Quantity</th>\n",
       "      <th>InvoiceDate</th>\n",
       "      <th>UnitPrice</th>\n",
       "      <th>CustomerID</th>\n",
       "      <th>Country</th>\n",
       "      <th>Total</th>\n",
       "      <th>DateYMD</th>\n",
       "    </tr>\n",
       "  </thead>\n",
       "  <tbody>\n",
       "    <tr>\n",
       "      <th>0</th>\n",
       "      <td>536365</td>\n",
       "      <td>85123A</td>\n",
       "      <td>WHITE HANGING HEART T-LIGHT HOLDER</td>\n",
       "      <td>6</td>\n",
       "      <td>2010-12-01 08:26:00</td>\n",
       "      <td>2.55</td>\n",
       "      <td>17850</td>\n",
       "      <td>United Kingdom</td>\n",
       "      <td>15.30</td>\n",
       "      <td>20101201</td>\n",
       "    </tr>\n",
       "    <tr>\n",
       "      <th>1</th>\n",
       "      <td>536365</td>\n",
       "      <td>71053</td>\n",
       "      <td>WHITE METAL LANTERN</td>\n",
       "      <td>6</td>\n",
       "      <td>2010-12-01 08:26:00</td>\n",
       "      <td>3.39</td>\n",
       "      <td>17850</td>\n",
       "      <td>United Kingdom</td>\n",
       "      <td>20.34</td>\n",
       "      <td>20101201</td>\n",
       "    </tr>\n",
       "    <tr>\n",
       "      <th>2</th>\n",
       "      <td>536365</td>\n",
       "      <td>84406B</td>\n",
       "      <td>CREAM CUPID HEARTS COAT HANGER</td>\n",
       "      <td>8</td>\n",
       "      <td>2010-12-01 08:26:00</td>\n",
       "      <td>2.75</td>\n",
       "      <td>17850</td>\n",
       "      <td>United Kingdom</td>\n",
       "      <td>22.00</td>\n",
       "      <td>20101201</td>\n",
       "    </tr>\n",
       "    <tr>\n",
       "      <th>3</th>\n",
       "      <td>536365</td>\n",
       "      <td>84029G</td>\n",
       "      <td>KNITTED UNION FLAG HOT WATER BOTTLE</td>\n",
       "      <td>6</td>\n",
       "      <td>2010-12-01 08:26:00</td>\n",
       "      <td>3.39</td>\n",
       "      <td>17850</td>\n",
       "      <td>United Kingdom</td>\n",
       "      <td>20.34</td>\n",
       "      <td>20101201</td>\n",
       "    </tr>\n",
       "    <tr>\n",
       "      <th>4</th>\n",
       "      <td>536365</td>\n",
       "      <td>84029E</td>\n",
       "      <td>RED WOOLLY HOTTIE WHITE HEART.</td>\n",
       "      <td>6</td>\n",
       "      <td>2010-12-01 08:26:00</td>\n",
       "      <td>3.39</td>\n",
       "      <td>17850</td>\n",
       "      <td>United Kingdom</td>\n",
       "      <td>20.34</td>\n",
       "      <td>20101201</td>\n",
       "    </tr>\n",
       "  </tbody>\n",
       "</table>\n",
       "</div>"
      ],
      "text/plain": [
       "  InvoiceNo StockCode                          Description  Quantity  \\\n",
       "0    536365    85123A   WHITE HANGING HEART T-LIGHT HOLDER         6   \n",
       "1    536365     71053                  WHITE METAL LANTERN         6   \n",
       "2    536365    84406B       CREAM CUPID HEARTS COAT HANGER         8   \n",
       "3    536365    84029G  KNITTED UNION FLAG HOT WATER BOTTLE         6   \n",
       "4    536365    84029E       RED WOOLLY HOTTIE WHITE HEART.         6   \n",
       "\n",
       "          InvoiceDate  UnitPrice  CustomerID         Country  Total   DateYMD  \n",
       "0 2010-12-01 08:26:00       2.55       17850  United Kingdom  15.30  20101201  \n",
       "1 2010-12-01 08:26:00       3.39       17850  United Kingdom  20.34  20101201  \n",
       "2 2010-12-01 08:26:00       2.75       17850  United Kingdom  22.00  20101201  \n",
       "3 2010-12-01 08:26:00       3.39       17850  United Kingdom  20.34  20101201  \n",
       "4 2010-12-01 08:26:00       3.39       17850  United Kingdom  20.34  20101201  "
      ]
     },
     "execution_count": 108,
     "metadata": {},
     "output_type": "execute_result"
    }
   ],
   "source": [
    "import pandas as pd\n",
    "import numpy as np\n",
    "import os\n",
    "\n",
    "%matplotlib inline\n",
    "\n",
    "try:\n",
    "    \n",
    "\n",
    "    df = pd.read_excel('/Users/rajeshpillai/Downloads/Online_Retail.xlsx',skiprows=0,header=0)\n",
    "\n",
    "    df = df.dropna()\n",
    "\n",
    "except:\n",
    "    print('File Not Found')\n",
    "    \n",
    "# Add Total by multiplying Quantity and Unit Price\n",
    "\n",
    "df['Total'] = df.Quantity*df.UnitPrice\n",
    "\n",
    "# Change date format to YYYYMM\n",
    "\n",
    "df['DateYMD'] = df.InvoiceDate.dt.strftime('%Y%m%d')\n",
    "\n",
    "df['CustomerID'] =df['CustomerID'].astype('int')\n",
    "\n",
    "df.head()"
   ]
  },
  {
   "cell_type": "code",
   "execution_count": 173,
   "metadata": {},
   "outputs": [
    {
     "data": {
      "text/plain": [
       "29072.1"
      ]
     },
     "execution_count": 173,
     "metadata": {},
     "output_type": "execute_result"
    }
   ],
   "source": [
    "#df[df.CustomerID==12346]\n",
    "\n",
    "df[df.CustomerID==12748].Total.sum()"
   ]
  },
  {
   "cell_type": "markdown",
   "metadata": {},
   "source": [
    " Our goal is to calculate the conditional probability\n",
    "####  P(Alive / lnformation)\n",
    "\n",
    "\n",
    "#### Information = (X, t, T).\n",
    "\n",
    "We will assume only one purchase a day by each customer. \n",
    "We reduce the available information into CustomerID, Date of puchase"
   ]
  },
  {
   "cell_type": "code",
   "execution_count": 128,
   "metadata": {},
   "outputs": [
    {
     "data": {
      "text/html": [
       "<div>\n",
       "<style scoped>\n",
       "    .dataframe tbody tr th:only-of-type {\n",
       "        vertical-align: middle;\n",
       "    }\n",
       "\n",
       "    .dataframe tbody tr th {\n",
       "        vertical-align: top;\n",
       "    }\n",
       "\n",
       "    .dataframe thead th {\n",
       "        text-align: right;\n",
       "    }\n",
       "</style>\n",
       "<table border=\"1\" class=\"dataframe\">\n",
       "  <thead>\n",
       "    <tr style=\"text-align: right;\">\n",
       "      <th></th>\n",
       "      <th>CustomerID</th>\n",
       "      <th>InvoiceDate</th>\n",
       "      <th>Total</th>\n",
       "    </tr>\n",
       "  </thead>\n",
       "  <tbody>\n",
       "    <tr>\n",
       "      <th>0</th>\n",
       "      <td>17850</td>\n",
       "      <td>2010-12-01</td>\n",
       "      <td>15.30</td>\n",
       "    </tr>\n",
       "    <tr>\n",
       "      <th>1</th>\n",
       "      <td>17850</td>\n",
       "      <td>2010-12-01</td>\n",
       "      <td>20.34</td>\n",
       "    </tr>\n",
       "    <tr>\n",
       "      <th>2</th>\n",
       "      <td>17850</td>\n",
       "      <td>2010-12-01</td>\n",
       "      <td>22.00</td>\n",
       "    </tr>\n",
       "    <tr>\n",
       "      <th>3</th>\n",
       "      <td>17850</td>\n",
       "      <td>2010-12-01</td>\n",
       "      <td>15.30</td>\n",
       "    </tr>\n",
       "    <tr>\n",
       "      <th>4</th>\n",
       "      <td>17850</td>\n",
       "      <td>2010-12-01</td>\n",
       "      <td>25.50</td>\n",
       "    </tr>\n",
       "  </tbody>\n",
       "</table>\n",
       "</div>"
      ],
      "text/plain": [
       "   CustomerID InvoiceDate  Total\n",
       "0       17850  2010-12-01  15.30\n",
       "1       17850  2010-12-01  20.34\n",
       "2       17850  2010-12-01  22.00\n",
       "3       17850  2010-12-01  15.30\n",
       "4       17850  2010-12-01  25.50"
      ]
     },
     "execution_count": 128,
     "metadata": {},
     "output_type": "execute_result"
    }
   ],
   "source": [
    "df_rfm = df[['CustomerID','InvoiceDate','Total','Country']]\n",
    "\n",
    "# Remove duplicates\n",
    "\n",
    "df_rfm = df_rfm\\\n",
    "                .drop_duplicates() \\\n",
    "                .reset_index() \n",
    "                \n",
    "df_rfm = df_rfm[df_rfm.Country=='United Kingdom']\n",
    "\n",
    "df_rfm = df_rfm[['CustomerID','InvoiceDate','Total']]\n",
    "\n",
    "df_rfm['InvoiceDate'] = pd.DatetimeIndex(df_rfm['InvoiceDate']).normalize()\n",
    "\n",
    "    \n",
    "df_rfm.head()"
   ]
  },
  {
   "cell_type": "code",
   "execution_count": 143,
   "metadata": {},
   "outputs": [],
   "source": [
    "import lifetimes as lt\n",
    "\n",
    "rfm = lt.utils.summary_data_from_transaction_data(df_rfm, customer_id_col='CustomerID', \n",
    "                                            datetime_col='InvoiceDate',datetime_format='yyyy-mm-dd',\n",
    "                                            monetary_value_col='Total')"
   ]
  },
  {
   "cell_type": "code",
   "execution_count": 153,
   "metadata": {},
   "outputs": [],
   "source": [
    "# Remove single purchase customers\n",
    "\n",
    "rfm = rfm[rfm.frequency>0]\n",
    "\n",
    "# Remove non zero monetary values\n",
    "\n",
    "rfm = rfm[rfm.monetary_value >0]"
   ]
  },
  {
   "cell_type": "code",
   "execution_count": 154,
   "metadata": {},
   "outputs": [
    {
     "data": {
      "text/html": [
       "<div>\n",
       "<style scoped>\n",
       "    .dataframe tbody tr th:only-of-type {\n",
       "        vertical-align: middle;\n",
       "    }\n",
       "\n",
       "    .dataframe tbody tr th {\n",
       "        vertical-align: top;\n",
       "    }\n",
       "\n",
       "    .dataframe thead th {\n",
       "        text-align: right;\n",
       "    }\n",
       "</style>\n",
       "<table border=\"1\" class=\"dataframe\">\n",
       "  <thead>\n",
       "    <tr style=\"text-align: right;\">\n",
       "      <th></th>\n",
       "      <th>frequency</th>\n",
       "      <th>recency</th>\n",
       "      <th>T</th>\n",
       "      <th>monetary_value</th>\n",
       "    </tr>\n",
       "    <tr>\n",
       "      <th>CustomerID</th>\n",
       "      <th></th>\n",
       "      <th></th>\n",
       "      <th></th>\n",
       "      <th></th>\n",
       "    </tr>\n",
       "  </thead>\n",
       "  <tbody>\n",
       "    <tr>\n",
       "      <th>12747</th>\n",
       "      <td>10.0</td>\n",
       "      <td>367.0</td>\n",
       "      <td>369.0</td>\n",
       "      <td>346.17300</td>\n",
       "    </tr>\n",
       "    <tr>\n",
       "      <th>12748</th>\n",
       "      <td>114.0</td>\n",
       "      <td>373.0</td>\n",
       "      <td>373.0</td>\n",
       "      <td>185.40886</td>\n",
       "    </tr>\n",
       "    <tr>\n",
       "      <th>12749</th>\n",
       "      <td>6.0</td>\n",
       "      <td>210.0</td>\n",
       "      <td>213.0</td>\n",
       "      <td>301.04000</td>\n",
       "    </tr>\n",
       "    <tr>\n",
       "      <th>12820</th>\n",
       "      <td>3.0</td>\n",
       "      <td>323.0</td>\n",
       "      <td>326.0</td>\n",
       "      <td>158.60000</td>\n",
       "    </tr>\n",
       "    <tr>\n",
       "      <th>12822</th>\n",
       "      <td>2.0</td>\n",
       "      <td>17.0</td>\n",
       "      <td>87.0</td>\n",
       "      <td>76.21500</td>\n",
       "    </tr>\n",
       "  </tbody>\n",
       "</table>\n",
       "</div>"
      ],
      "text/plain": [
       "            frequency  recency      T  monetary_value\n",
       "CustomerID                                           \n",
       "12747            10.0    367.0  369.0       346.17300\n",
       "12748           114.0    373.0  373.0       185.40886\n",
       "12749             6.0    210.0  213.0       301.04000\n",
       "12820             3.0    323.0  326.0       158.60000\n",
       "12822             2.0     17.0   87.0        76.21500"
      ]
     },
     "execution_count": 154,
     "metadata": {},
     "output_type": "execute_result"
    }
   ],
   "source": [
    "rfm.head()"
   ]
  },
  {
   "cell_type": "code",
   "execution_count": 161,
   "metadata": {},
   "outputs": [
    {
     "name": "stdout",
     "output_type": "stream",
     "text": [
      "<lifetimes.GammaGammaFitter: fitted with 2526 subjects, p: 1.52, q: 4.23, v: 488.25>\n"
     ]
    }
   ],
   "source": [
    "from lifetimes import GammaGammaFitter\n",
    "\n",
    "ggf = GammaGammaFitter(penalizer_coef = 0)\n",
    "ggf.fit(rfm['frequency'],\n",
    "        rfm['monetary_value'])\n",
    "print(ggf)\n",
    "\n"
   ]
  },
  {
   "cell_type": "code",
   "execution_count": 162,
   "metadata": {},
   "outputs": [
    {
     "name": "stdout",
     "output_type": "stream",
     "text": [
      "CustomerID\n",
      "12747    325.681366\n",
      "12748    186.215161\n",
      "12749    282.282155\n",
      "12820    187.984320\n",
      "12822    155.190286\n",
      "12823    316.846738\n",
      "12826    116.885343\n",
      "12827    162.522490\n",
      "12828    161.230823\n",
      "12829    158.792198\n",
      "dtype: float64\n"
     ]
    }
   ],
   "source": [
    "print(ggf.conditional_expected_average_profit(\n",
    "        rfm['frequency'],\n",
    "        rfm['monetary_value']\n",
    "    ).head(10))"
   ]
  },
  {
   "cell_type": "code",
   "execution_count": 169,
   "metadata": {},
   "outputs": [
    {
     "name": "stdout",
     "output_type": "stream",
     "text": [
      "<lifetimes.ParetoNBDFitter: fitted with 2526 subjects, alpha: 89.49, beta: 993.34, r: 1.79, s: 0.04>\n"
     ]
    }
   ],
   "source": [
    "from lifetimes import ParetoNBDFitter\n",
    "\n",
    "pnf = ParetoNBDFitter()\n",
    "\n",
    "pnf.fit(rfm['frequency'],\n",
    "        rfm['recency'],\n",
    "        rfm['T']\n",
    "       )\n",
    "\n",
    "print(pnf)"
   ]
  },
  {
   "cell_type": "code",
   "execution_count": 176,
   "metadata": {},
   "outputs": [
    {
     "data": {
      "text/plain": [
       "CustomerID\n",
       "12747     2814.846072\n",
       "12748    15667.193825\n",
       "12749     2442.201177\n",
       "12820      728.557991\n",
       "12822     1111.072964\n",
       "Name: clv, dtype: float64"
      ]
     },
     "execution_count": 176,
     "metadata": {},
     "output_type": "execute_result"
    }
   ],
   "source": [
    "ggf.customer_lifetime_value(pnf,rfm['frequency'],\n",
    "        rfm['recency'],\n",
    "        rfm['T'],\n",
    "        rfm['monetary_value']).head()"
   ]
  },
  {
   "cell_type": "code",
   "execution_count": 178,
   "metadata": {},
   "outputs": [
    {
     "name": "stdout",
     "output_type": "stream",
     "text": [
      "<lifetimes.BetaGeoFitter: fitted with 2526 subjects, a: 0.04, alpha: 88.75, b: 1.19, r: 1.85>\n"
     ]
    }
   ],
   "source": [
    "from lifetimes import BetaGeoFitter\n",
    "\n",
    "bgf = BetaGeoFitter()\n",
    "\n",
    "bgf.fit(rfm['frequency'],\n",
    "        rfm['recency'],\n",
    "        rfm['T']\n",
    "       )\n",
    "\n",
    "print(bgf)"
   ]
  },
  {
   "cell_type": "code",
   "execution_count": 179,
   "metadata": {},
   "outputs": [
    {
     "data": {
      "text/plain": [
       "CustomerID\n",
       "12747     2801.857972\n",
       "12748    15594.343526\n",
       "12749     2420.626598\n",
       "12820      722.710656\n",
       "12822      997.887461\n",
       "Name: clv, dtype: float64"
      ]
     },
     "execution_count": 179,
     "metadata": {},
     "output_type": "execute_result"
    }
   ],
   "source": [
    "ggf.customer_lifetime_value(bgf,rfm['frequency'],\n",
    "        rfm['recency'],\n",
    "        rfm['T'],\n",
    "        rfm['monetary_value']).head()"
   ]
  },
  {
   "cell_type": "code",
   "execution_count": null,
   "metadata": {},
   "outputs": [],
   "source": [
    "lt.GammaGammaFitter()"
   ]
  },
  {
   "cell_type": "code",
   "execution_count": 127,
   "metadata": {},
   "outputs": [
    {
     "data": {
      "text/plain": [
       "DatetimeIndex(['2010-12-01', '2010-12-01', '2010-12-01', '2010-12-01',\n",
       "               '2010-12-01', '2010-12-01', '2010-12-01', '2010-12-01',\n",
       "               '2010-12-01', '2010-12-01',\n",
       "               ...\n",
       "               '2011-12-09', '2011-12-09', '2011-12-09', '2011-12-09',\n",
       "               '2011-12-09', '2011-12-09', '2011-12-09', '2011-12-09',\n",
       "               '2011-12-09', '2011-12-09'],\n",
       "              dtype='datetime64[ns]', name='InvoiceDate', length=220912, freq=None)"
      ]
     },
     "execution_count": 127,
     "metadata": {},
     "output_type": "execute_result"
    }
   ],
   "source": [
    "#df_rfm['InvoiceDate'].DatetimeIndex\n",
    "\n",
    "pd.DatetimeIndex(df_rfm['InvoiceDate']).normalize()"
   ]
  },
  {
   "cell_type": "code",
   "execution_count": 110,
   "metadata": {},
   "outputs": [
    {
     "name": "stdout",
     "output_type": "stream",
     "text": [
      "<class 'pandas.core.frame.DataFrame'>\n",
      "Int64Index: 19708 entries, 0 to 22032\n",
      "Data columns (total 2 columns):\n",
      "CustomerID     19708 non-null int64\n",
      "InvoiceDate    19708 non-null datetime64[ns]\n",
      "dtypes: datetime64[ns](1), int64(1)\n",
      "memory usage: 461.9 KB\n"
     ]
    }
   ],
   "source": [
    "df_rfm.info()"
   ]
  },
  {
   "cell_type": "markdown",
   "metadata": {},
   "source": [
    "For any time T > 0, if the customeri s still alive at T (so r > T) the number of purchases in\n",
    "(0, T] has the Poisson distribution:\n",
    "P [X =xlX,,r> T] =e-XT( (XTT)X) ; x =0, 12, ..., (1)"
   ]
  },
  {
   "cell_type": "code",
   "execution_count": 111,
   "metadata": {},
   "outputs": [
    {
     "name": "stdout",
     "output_type": "stream",
     "text": [
      "3950\n"
     ]
    },
    {
     "data": {
      "text/html": [
       "<div>\n",
       "<style scoped>\n",
       "    .dataframe tbody tr th:only-of-type {\n",
       "        vertical-align: middle;\n",
       "    }\n",
       "\n",
       "    .dataframe tbody tr th {\n",
       "        vertical-align: top;\n",
       "    }\n",
       "\n",
       "    .dataframe thead th {\n",
       "        text-align: right;\n",
       "    }\n",
       "</style>\n",
       "<table border=\"1\" class=\"dataframe\">\n",
       "  <thead>\n",
       "    <tr style=\"text-align: right;\">\n",
       "      <th></th>\n",
       "      <th>index</th>\n",
       "      <th>CustomerID</th>\n",
       "      <th>InvoiceDate</th>\n",
       "    </tr>\n",
       "  </thead>\n",
       "  <tbody>\n",
       "    <tr>\n",
       "      <th>0</th>\n",
       "      <td>0</td>\n",
       "      <td>17850</td>\n",
       "      <td>2010-12-01 08:26:00</td>\n",
       "    </tr>\n",
       "    <tr>\n",
       "      <th>1</th>\n",
       "      <td>1</td>\n",
       "      <td>17850</td>\n",
       "      <td>2010-12-01 08:28:00</td>\n",
       "    </tr>\n",
       "    <tr>\n",
       "      <th>2</th>\n",
       "      <td>2</td>\n",
       "      <td>13047</td>\n",
       "      <td>2010-12-01 08:34:00</td>\n",
       "    </tr>\n",
       "    <tr>\n",
       "      <th>3</th>\n",
       "      <td>3</td>\n",
       "      <td>13047</td>\n",
       "      <td>2010-12-01 08:35:00</td>\n",
       "    </tr>\n",
       "    <tr>\n",
       "      <th>4</th>\n",
       "      <td>5</td>\n",
       "      <td>13748</td>\n",
       "      <td>2010-12-01 09:00:00</td>\n",
       "    </tr>\n",
       "  </tbody>\n",
       "</table>\n",
       "</div>"
      ],
      "text/plain": [
       "   index  CustomerID         InvoiceDate\n",
       "0      0       17850 2010-12-01 08:26:00\n",
       "1      1       17850 2010-12-01 08:28:00\n",
       "2      2       13047 2010-12-01 08:34:00\n",
       "3      3       13047 2010-12-01 08:35:00\n",
       "4      5       13748 2010-12-01 09:00:00"
      ]
     },
     "execution_count": 111,
     "metadata": {},
     "output_type": "execute_result"
    },
    {
     "data": {
      "image/png": "[encoded data removed]",
      "text/plain": [
       "<Figure size 432x288 with 1 Axes>"
      ]
     },
     "metadata": {
      "needs_background": "light"
     },
     "output_type": "display_data"
    }
   ],
   "source": [
    "# total number of customers\n",
    "\n",
    "print(len(df_rfm.CustomerID.unique()))\n",
    "\n",
    "\n",
    "# Remove single occurance\n",
    "\n",
    "k = df_rfm.groupby(by='CustomerID')\\\n",
    "                                   .InvoiceDate\\\n",
    "                                   .count()\\\n",
    "                                   .to_frame()\\\n",
    "                                   .reset_index()\n",
    "k = k[k.InvoiceDate==1]\n",
    "\n",
    "k.head()\n",
    "\n",
    "exclude = k.CustomerID\n",
    "\n",
    "df_rfm = df_rfm[~df_rfm.CustomerID.isin(exclude)]\\\n",
    "                                                .reset_index()\n",
    "\n",
    "# customers by number of transactions\n",
    "\n",
    "bins =[0,2,4,6,8,10,15,20]\n",
    "\n",
    "df_rfm.groupby(by='CustomerID')\\\n",
    "                               .InvoiceDate.count()\\\n",
    "                               .sort_values()\\\n",
    "                               .hist(bins=bins)\n",
    "\n",
    "\n",
    "\n",
    "df_rfm.head()"
   ]
  },
  {
   "cell_type": "code",
   "execution_count": 112,
   "metadata": {},
   "outputs": [
    {
     "data": {
      "text/html": [
       "<div>\n",
       "<style scoped>\n",
       "    .dataframe tbody tr th:only-of-type {\n",
       "        vertical-align: middle;\n",
       "    }\n",
       "\n",
       "    .dataframe tbody tr th {\n",
       "        vertical-align: top;\n",
       "    }\n",
       "\n",
       "    .dataframe thead th {\n",
       "        text-align: right;\n",
       "    }\n",
       "</style>\n",
       "<table border=\"1\" class=\"dataframe\">\n",
       "  <thead>\n",
       "    <tr style=\"text-align: right;\">\n",
       "      <th></th>\n",
       "      <th>CustomerID</th>\n",
       "      <th>X</th>\n",
       "      <th>last_trans</th>\n",
       "      <th>first_trans</th>\n",
       "    </tr>\n",
       "  </thead>\n",
       "  <tbody>\n",
       "    <tr>\n",
       "      <th>0</th>\n",
       "      <td>12346</td>\n",
       "      <td>2</td>\n",
       "      <td>2011-01-18 10:17:00</td>\n",
       "      <td>2011-01-18 10:01:00</td>\n",
       "    </tr>\n",
       "    <tr>\n",
       "      <th>1</th>\n",
       "      <td>12747</td>\n",
       "      <td>11</td>\n",
       "      <td>2011-12-07 14:34:00</td>\n",
       "      <td>2010-12-05 15:38:00</td>\n",
       "    </tr>\n",
       "    <tr>\n",
       "      <th>2</th>\n",
       "      <td>12748</td>\n",
       "      <td>225</td>\n",
       "      <td>2011-12-09 12:20:00</td>\n",
       "      <td>2010-12-01 12:48:00</td>\n",
       "    </tr>\n",
       "    <tr>\n",
       "      <th>3</th>\n",
       "      <td>12749</td>\n",
       "      <td>8</td>\n",
       "      <td>2011-12-06 09:56:00</td>\n",
       "      <td>2011-05-10 15:25:00</td>\n",
       "    </tr>\n",
       "    <tr>\n",
       "      <th>4</th>\n",
       "      <td>12820</td>\n",
       "      <td>4</td>\n",
       "      <td>2011-12-06 15:12:00</td>\n",
       "      <td>2011-01-17 12:34:00</td>\n",
       "    </tr>\n",
       "  </tbody>\n",
       "</table>\n",
       "</div>"
      ],
      "text/plain": [
       "   CustomerID    X          last_trans         first_trans\n",
       "0       12346    2 2011-01-18 10:17:00 2011-01-18 10:01:00\n",
       "1       12747   11 2011-12-07 14:34:00 2010-12-05 15:38:00\n",
       "2       12748  225 2011-12-09 12:20:00 2010-12-01 12:48:00\n",
       "3       12749    8 2011-12-06 09:56:00 2011-05-10 15:25:00\n",
       "4       12820    4 2011-12-06 15:12:00 2011-01-17 12:34:00"
      ]
     },
     "execution_count": 112,
     "metadata": {},
     "output_type": "execute_result"
    }
   ],
   "source": [
    "# Information = (X, t, T)\n",
    "# X - number of transactions upto time T\n",
    "# t - time of last purchase\n",
    "# T - a time post last purchase, with the last purchase coming at time t <= T *\n",
    "# * - need further study to verify\n",
    "\n",
    "## Derive X\n",
    "df_information = df_rfm.groupby(by='CustomerID')\\\n",
    "                                   .InvoiceDate\\\n",
    "                                   .count()\\\n",
    "                                   .reset_index()\\\n",
    "                                   .rename(columns={\"InvoiceDate\":\"X\"})\n",
    "\n",
    "## Derive t\n",
    "\n",
    "df_information_last = df_rfm.groupby(by='CustomerID')\\\n",
    "                                                  .InvoiceDate\\\n",
    "                                                  .max()\\\n",
    "                                                  .reset_index()\\\n",
    "                                                  .rename(columns={\"InvoiceDate\":\"last_trans\"})\n",
    "## Derive first transaction date\n",
    "\n",
    "df_information_first = df_rfm.groupby(by='CustomerID')\\\n",
    "                                                  .InvoiceDate\\\n",
    "                                                  .min()\\\n",
    "                                                  .reset_index()\\\n",
    "                                                  .rename(columns={\"InvoiceDate\":\"first_trans\"})\n",
    "    \n",
    "# Merge both dataframes\n",
    "\n",
    "df_information = df_information.merge(df_information_last,how='inner',on='CustomerID')\n",
    "\n",
    "df_information = df_information.merge(df_information_first,how='inner',on='CustomerID')\n",
    "\n"
   ]
  },
  {
   "cell_type": "code",
   "execution_count": 113,
   "metadata": {},
   "outputs": [
    {
     "data": {
      "text/html": [
       "<div>\n",
       "<style scoped>\n",
       "    .dataframe tbody tr th:only-of-type {\n",
       "        vertical-align: middle;\n",
       "    }\n",
       "\n",
       "    .dataframe tbody tr th {\n",
       "        vertical-align: top;\n",
       "    }\n",
       "\n",
       "    .dataframe thead th {\n",
       "        text-align: right;\n",
       "    }\n",
       "</style>\n",
       "<table border=\"1\" class=\"dataframe\">\n",
       "  <thead>\n",
       "    <tr style=\"text-align: right;\">\n",
       "      <th></th>\n",
       "      <th>CustomerID</th>\n",
       "      <th>X</th>\n",
       "      <th>last_trans</th>\n",
       "      <th>first_trans</th>\n",
       "      <th>t</th>\n",
       "    </tr>\n",
       "  </thead>\n",
       "  <tbody>\n",
       "    <tr>\n",
       "      <th>0</th>\n",
       "      <td>12346</td>\n",
       "      <td>2</td>\n",
       "      <td>2011-01-18 10:17:00</td>\n",
       "      <td>2011-01-18 10:01:00</td>\n",
       "      <td>0 days 00:16:00</td>\n",
       "    </tr>\n",
       "    <tr>\n",
       "      <th>1</th>\n",
       "      <td>12747</td>\n",
       "      <td>11</td>\n",
       "      <td>2011-12-07 14:34:00</td>\n",
       "      <td>2010-12-05 15:38:00</td>\n",
       "      <td>366 days 22:56:00</td>\n",
       "    </tr>\n",
       "    <tr>\n",
       "      <th>2</th>\n",
       "      <td>12748</td>\n",
       "      <td>225</td>\n",
       "      <td>2011-12-09 12:20:00</td>\n",
       "      <td>2010-12-01 12:48:00</td>\n",
       "      <td>372 days 23:32:00</td>\n",
       "    </tr>\n",
       "    <tr>\n",
       "      <th>3</th>\n",
       "      <td>12749</td>\n",
       "      <td>8</td>\n",
       "      <td>2011-12-06 09:56:00</td>\n",
       "      <td>2011-05-10 15:25:00</td>\n",
       "      <td>209 days 18:31:00</td>\n",
       "    </tr>\n",
       "    <tr>\n",
       "      <th>4</th>\n",
       "      <td>12820</td>\n",
       "      <td>4</td>\n",
       "      <td>2011-12-06 15:12:00</td>\n",
       "      <td>2011-01-17 12:34:00</td>\n",
       "      <td>323 days 02:38:00</td>\n",
       "    </tr>\n",
       "  </tbody>\n",
       "</table>\n",
       "</div>"
      ],
      "text/plain": [
       "   CustomerID    X          last_trans         first_trans                 t\n",
       "0       12346    2 2011-01-18 10:17:00 2011-01-18 10:01:00   0 days 00:16:00\n",
       "1       12747   11 2011-12-07 14:34:00 2010-12-05 15:38:00 366 days 22:56:00\n",
       "2       12748  225 2011-12-09 12:20:00 2010-12-01 12:48:00 372 days 23:32:00\n",
       "3       12749    8 2011-12-06 09:56:00 2011-05-10 15:25:00 209 days 18:31:00\n",
       "4       12820    4 2011-12-06 15:12:00 2011-01-17 12:34:00 323 days 02:38:00"
      ]
     },
     "execution_count": 113,
     "metadata": {},
     "output_type": "execute_result"
    }
   ],
   "source": [
    "# No of days between first and last transaction\n",
    "\n",
    "df_information['t'] = (df_information['last_trans'] - df_information['first_trans']).astype()\n",
    "\n",
    "df_information.head()\n",
    "\n"
   ]
  },
  {
   "cell_type": "code",
   "execution_count": 117,
   "metadata": {},
   "outputs": [
    {
     "ename": "AttributeError",
     "evalue": "'TimedeltaProperties' object has no attribute 'strftime'",
     "output_type": "error",
     "traceback": [
      "\u001b[0;31m---------------------------------------------------------------------------\u001b[0m",
      "\u001b[0;31mAttributeError\u001b[0m                            Traceback (most recent call last)",
      "\u001b[0;32m<ipython-input-117-9fea06310f9e>\u001b[0m in \u001b[0;36m<module>\u001b[0;34m\u001b[0m\n\u001b[0;32m----> 1\u001b[0;31m \u001b[0;34m(\u001b[0m\u001b[0mdf_information\u001b[0m\u001b[0;34m[\u001b[0m\u001b[0;34m'last_trans'\u001b[0m\u001b[0;34m]\u001b[0m \u001b[0;34m-\u001b[0m \u001b[0mdf_information\u001b[0m\u001b[0;34m[\u001b[0m\u001b[0;34m'first_trans'\u001b[0m\u001b[0;34m]\u001b[0m\u001b[0;34m)\u001b[0m\u001b[0;34m.\u001b[0m\u001b[0mdt\u001b[0m\u001b[0;34m.\u001b[0m\u001b[0mstrftime\u001b[0m\u001b[0;34m(\u001b[0m\u001b[0;34m'D'\u001b[0m\u001b[0;34m)\u001b[0m\u001b[0;34m\u001b[0m\u001b[0;34m\u001b[0m\u001b[0m\n\u001b[0m",
      "\u001b[0;31mAttributeError\u001b[0m: 'TimedeltaProperties' object has no attribute 'strftime'"
     ]
    }
   ],
   "source": [
    "(df_information['last_trans'] - df_information['first_trans']).dt.strftime('D')"
   ]
  },
  {
   "cell_type": "code",
   "execution_count": 119,
   "metadata": {},
   "outputs": [],
   "source": [
    "from lifetimes.datasets import load_cdnow_summary\n",
    "data = load_cdnow_summary(index_col=[0])\n",
    "\n"
   ]
  },
  {
   "cell_type": "code",
   "execution_count": 123,
   "metadata": {},
   "outputs": [
    {
     "data": {
      "text/plain": [
       "array([38.86, 38.71, 38.57, 38.43, 38.29, 38.14, 38.  , 37.86, 37.71,\n",
       "       37.57, 37.43, 37.29, 37.14, 37.  , 36.86, 36.71, 36.57, 36.43,\n",
       "       36.29, 36.14, 36.  , 35.86, 35.71, 35.57, 35.43, 35.29, 35.14,\n",
       "       35.  , 34.86, 34.71, 34.57, 34.43, 34.29, 34.14, 34.  , 33.86,\n",
       "       33.71, 33.57, 33.43, 33.29, 33.14, 33.  , 32.86, 32.71, 32.57,\n",
       "       32.43, 32.29, 32.14, 32.  , 31.86, 31.71, 31.57, 31.43, 31.29,\n",
       "       31.14, 31.  , 30.86, 30.71, 30.57, 30.43, 30.29, 30.14, 30.  ,\n",
       "       29.86, 29.71, 29.57, 29.43, 29.29, 29.14, 29.  , 28.86, 28.71,\n",
       "       28.57, 28.43, 28.29, 28.14, 28.  , 27.86, 27.71, 27.57, 27.43,\n",
       "       27.29, 27.14, 27.  ])"
      ]
     },
     "execution_count": 123,
     "metadata": {},
     "output_type": "execute_result"
    }
   ],
   "source": [
    "data['T'].unique()"
   ]
  },
  {
   "cell_type": "code",
   "execution_count": 125,
   "metadata": {},
   "outputs": [],
   "source": []
  },
  {
   "cell_type": "code",
   "execution_count": null,
   "metadata": {},
   "outputs": [],
   "source": []
  }
 ],
 "metadata": {
  "kernelspec": {
   "display_name": "Python 3",
   "language": "python",
   "name": "python3"
  },
  "language_info": {
   "codemirror_mode": {
    "name": "ipython",
    "version": 3
   },
   "file_extension": ".py",
   "mimetype": "text/x-python",
   "name": "python",
   "nbconvert_exporter": "python",
   "pygments_lexer": "ipython3",
   "version": "3.7.3"
  }
 },
 "nbformat": 4,
 "nbformat_minor": 2
}
