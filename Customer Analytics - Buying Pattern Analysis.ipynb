{
 "cells": [
  {
   "cell_type": "markdown",
   "metadata": {},
   "source": [
    "## Customer Analytics \n",
    "\n",
    "### Buying Pattern Analysis\n",
    "\n"
   ]
  },
  {
   "cell_type": "code",
   "execution_count": 27,
   "metadata": {},
   "outputs": [],
   "source": [
    "import pandas as pd\n",
    "import numpy as np\n",
    "import os\n",
    "\n",
    "try:\n",
    "    \n",
    "\n",
    "    df = pd.read_excel('/Users/rajeshpillai/Downloads/Online_Retail.xlsx',skiprows=0,header=0)\n",
    "\n",
    "    df = df.dropna()\n",
    "\n",
    "except:\n",
    "    print('File Not Found')"
   ]
  },
  {
   "cell_type": "code",
   "execution_count": 28,
   "metadata": {},
   "outputs": [
    {
     "name": "stdout",
     "output_type": "stream",
     "text": [
      "<class 'pandas.core.frame.DataFrame'>\n",
      "Int64Index: 406829 entries, 0 to 541908\n",
      "Data columns (total 8 columns):\n",
      "InvoiceNo      406829 non-null object\n",
      "StockCode      406829 non-null object\n",
      "Description    406829 non-null object\n",
      "Quantity       406829 non-null int64\n",
      "InvoiceDate    406829 non-null datetime64[ns]\n",
      "UnitPrice      406829 non-null float64\n",
      "CustomerID     406829 non-null float64\n",
      "Country        406829 non-null object\n",
      "dtypes: datetime64[ns](1), float64(2), int64(1), object(4)\n",
      "memory usage: 27.9+ MB\n"
     ]
    }
   ],
   "source": [
    "df.info()"
   ]
  },
  {
   "cell_type": "code",
   "execution_count": 29,
   "metadata": {},
   "outputs": [
    {
     "data": {
      "text/html": [
       "<div>\n",
       "<style scoped>\n",
       "    .dataframe tbody tr th:only-of-type {\n",
       "        vertical-align: middle;\n",
       "    }\n",
       "\n",
       "    .dataframe tbody tr th {\n",
       "        vertical-align: top;\n",
       "    }\n",
       "\n",
       "    .dataframe thead th {\n",
       "        text-align: right;\n",
       "    }\n",
       "</style>\n",
       "<table border=\"1\" class=\"dataframe\">\n",
       "  <thead>\n",
       "    <tr style=\"text-align: right;\">\n",
       "      <th></th>\n",
       "      <th>InvoiceNo</th>\n",
       "      <th>StockCode</th>\n",
       "      <th>Description</th>\n",
       "      <th>Quantity</th>\n",
       "      <th>InvoiceDate</th>\n",
       "      <th>UnitPrice</th>\n",
       "      <th>CustomerID</th>\n",
       "      <th>Country</th>\n",
       "      <th>Total</th>\n",
       "      <th>DateYMD</th>\n",
       "    </tr>\n",
       "  </thead>\n",
       "  <tbody>\n",
       "    <tr>\n",
       "      <th>0</th>\n",
       "      <td>536365</td>\n",
       "      <td>85123A</td>\n",
       "      <td>WHITE HANGING HEART T-LIGHT HOLDER</td>\n",
       "      <td>6</td>\n",
       "      <td>2010-12-01 08:26:00</td>\n",
       "      <td>2.55</td>\n",
       "      <td>17850.0</td>\n",
       "      <td>United Kingdom</td>\n",
       "      <td>15.30</td>\n",
       "      <td>20101201</td>\n",
       "    </tr>\n",
       "    <tr>\n",
       "      <th>1</th>\n",
       "      <td>536365</td>\n",
       "      <td>71053</td>\n",
       "      <td>WHITE METAL LANTERN</td>\n",
       "      <td>6</td>\n",
       "      <td>2010-12-01 08:26:00</td>\n",
       "      <td>3.39</td>\n",
       "      <td>17850.0</td>\n",
       "      <td>United Kingdom</td>\n",
       "      <td>20.34</td>\n",
       "      <td>20101201</td>\n",
       "    </tr>\n",
       "    <tr>\n",
       "      <th>2</th>\n",
       "      <td>536365</td>\n",
       "      <td>84406B</td>\n",
       "      <td>CREAM CUPID HEARTS COAT HANGER</td>\n",
       "      <td>8</td>\n",
       "      <td>2010-12-01 08:26:00</td>\n",
       "      <td>2.75</td>\n",
       "      <td>17850.0</td>\n",
       "      <td>United Kingdom</td>\n",
       "      <td>22.00</td>\n",
       "      <td>20101201</td>\n",
       "    </tr>\n",
       "    <tr>\n",
       "      <th>3</th>\n",
       "      <td>536365</td>\n",
       "      <td>84029G</td>\n",
       "      <td>KNITTED UNION FLAG HOT WATER BOTTLE</td>\n",
       "      <td>6</td>\n",
       "      <td>2010-12-01 08:26:00</td>\n",
       "      <td>3.39</td>\n",
       "      <td>17850.0</td>\n",
       "      <td>United Kingdom</td>\n",
       "      <td>20.34</td>\n",
       "      <td>20101201</td>\n",
       "    </tr>\n",
       "    <tr>\n",
       "      <th>4</th>\n",
       "      <td>536365</td>\n",
       "      <td>84029E</td>\n",
       "      <td>RED WOOLLY HOTTIE WHITE HEART.</td>\n",
       "      <td>6</td>\n",
       "      <td>2010-12-01 08:26:00</td>\n",
       "      <td>3.39</td>\n",
       "      <td>17850.0</td>\n",
       "      <td>United Kingdom</td>\n",
       "      <td>20.34</td>\n",
       "      <td>20101201</td>\n",
       "    </tr>\n",
       "  </tbody>\n",
       "</table>\n",
       "</div>"
      ],
      "text/plain": [
       "  InvoiceNo StockCode                          Description  Quantity  \\\n",
       "0    536365    85123A   WHITE HANGING HEART T-LIGHT HOLDER         6   \n",
       "1    536365     71053                  WHITE METAL LANTERN         6   \n",
       "2    536365    84406B       CREAM CUPID HEARTS COAT HANGER         8   \n",
       "3    536365    84029G  KNITTED UNION FLAG HOT WATER BOTTLE         6   \n",
       "4    536365    84029E       RED WOOLLY HOTTIE WHITE HEART.         6   \n",
       "\n",
       "          InvoiceDate  UnitPrice  CustomerID         Country  Total   DateYMD  \n",
       "0 2010-12-01 08:26:00       2.55     17850.0  United Kingdom  15.30  20101201  \n",
       "1 2010-12-01 08:26:00       3.39     17850.0  United Kingdom  20.34  20101201  \n",
       "2 2010-12-01 08:26:00       2.75     17850.0  United Kingdom  22.00  20101201  \n",
       "3 2010-12-01 08:26:00       3.39     17850.0  United Kingdom  20.34  20101201  \n",
       "4 2010-12-01 08:26:00       3.39     17850.0  United Kingdom  20.34  20101201  "
      ]
     },
     "execution_count": 29,
     "metadata": {},
     "output_type": "execute_result"
    }
   ],
   "source": [
    "# Add Total by multiplying Quantity and Unit Price\n",
    "\n",
    "df['Total'] = df.Quantity*df.UnitPrice\n",
    "\n",
    "# Change date format to YYYYMM\n",
    "\n",
    "df['DateYMD'] = df.InvoiceDate.dt.strftime('%Y%m%d')\n",
    "\n",
    "\n",
    "df.head()\n",
    "\n"
   ]
  },
  {
   "cell_type": "markdown",
   "metadata": {},
   "source": [
    "### 2 Country wise distribution"
   ]
  },
  {
   "cell_type": "code",
   "execution_count": 30,
   "metadata": {},
   "outputs": [
    {
     "data": {
      "text/html": [
       "<div>\n",
       "<style scoped>\n",
       "    .dataframe tbody tr th:only-of-type {\n",
       "        vertical-align: middle;\n",
       "    }\n",
       "\n",
       "    .dataframe tbody tr th {\n",
       "        vertical-align: top;\n",
       "    }\n",
       "\n",
       "    .dataframe thead th {\n",
       "        text-align: right;\n",
       "    }\n",
       "</style>\n",
       "<table border=\"1\" class=\"dataframe\">\n",
       "  <thead>\n",
       "    <tr style=\"text-align: right;\">\n",
       "      <th></th>\n",
       "      <th>index</th>\n",
       "      <th>Country</th>\n",
       "      <th>CustomerID</th>\n",
       "    </tr>\n",
       "  </thead>\n",
       "  <tbody>\n",
       "    <tr>\n",
       "      <th>460</th>\n",
       "      <td>17067</td>\n",
       "      <td>Australia</td>\n",
       "      <td>12386.0</td>\n",
       "    </tr>\n",
       "    <tr>\n",
       "      <th>1148</th>\n",
       "      <td>59113</td>\n",
       "      <td>Australia</td>\n",
       "      <td>12388.0</td>\n",
       "    </tr>\n",
       "    <tr>\n",
       "      <th>1062</th>\n",
       "      <td>52263</td>\n",
       "      <td>Australia</td>\n",
       "      <td>12393.0</td>\n",
       "    </tr>\n",
       "    <tr>\n",
       "      <th>980</th>\n",
       "      <td>45511</td>\n",
       "      <td>Australia</td>\n",
       "      <td>12415.0</td>\n",
       "    </tr>\n",
       "    <tr>\n",
       "      <th>1181</th>\n",
       "      <td>63100</td>\n",
       "      <td>Australia</td>\n",
       "      <td>12422.0</td>\n",
       "    </tr>\n",
       "  </tbody>\n",
       "</table>\n",
       "</div>"
      ],
      "text/plain": [
       "      index    Country  CustomerID\n",
       "460   17067  Australia     12386.0\n",
       "1148  59113  Australia     12388.0\n",
       "1062  52263  Australia     12393.0\n",
       "980   45511  Australia     12415.0\n",
       "1181  63100  Australia     12422.0"
      ]
     },
     "execution_count": 30,
     "metadata": {},
     "output_type": "execute_result"
    }
   ],
   "source": [
    "customer_country = df[['Country','CustomerID']]\n",
    "\n",
    "customer_country = customer_country[~customer_country.duplicated()].reset_index()\n",
    "\n",
    "customer_country = customer_country\\\n",
    "                                    .sort_values(by=['Country','CustomerID'])\n",
    "                \n",
    "\n",
    "customer_country.head()\n"
   ]
  },
  {
   "cell_type": "markdown",
   "metadata": {},
   "source": [
    "### 1. Frequency of Purchase\n",
    "\n",
    "How often do customers purchase. Buying pattern classified into One-time, Intermittent, Frequent\n",
    "\n",
    "#### Define Buying Frequency"
   ]
  },
  {
   "cell_type": "code",
   "execution_count": 31,
   "metadata": {},
   "outputs": [],
   "source": [
    "def buying_freq(count):\n",
    "    \n",
    "    if count ==1:\n",
    "        val = 'one-time'\n",
    "    \n",
    "    elif count >6:\n",
    "        val = 'high-freq'\n",
    "    \n",
    "    else :\n",
    "        val ='intermittent'\n",
    "    \n",
    "    return val"
   ]
  },
  {
   "cell_type": "markdown",
   "metadata": {},
   "source": [
    "#### Define Buying Quantity"
   ]
  },
  {
   "cell_type": "code",
   "execution_count": 32,
   "metadata": {},
   "outputs": [],
   "source": [
    "def qty_freq(Quantity, qty_analysis):\n",
    "    \n",
    "    qty = Quantity\n",
    "    \n",
    "    qty_50 = qty_analysis['50%']\n",
    "    qty_75 = qty_analysis['75%']\n",
    "    \n",
    "    if qty <qty_50:\n",
    "        val = 'low'\n",
    "    \n",
    "    elif qty >qty_75:\n",
    "        val = 'high'\n",
    "    \n",
    "    else :\n",
    "        val ='medium'\n",
    "    \n",
    "    return val"
   ]
  },
  {
   "cell_type": "markdown",
   "metadata": {},
   "source": [
    "#### Analysis"
   ]
  },
  {
   "cell_type": "code",
   "execution_count": 33,
   "metadata": {},
   "outputs": [
    {
     "data": {
      "text/plain": [
       "count    4372.000000\n",
       "mean        5.039799\n",
       "std         9.248607\n",
       "min         1.000000\n",
       "25%         1.000000\n",
       "50%         3.000000\n",
       "75%         5.000000\n",
       "max       248.000000\n",
       "Name: Count, dtype: float64"
      ]
     },
     "execution_count": 33,
     "metadata": {},
     "output_type": "execute_result"
    }
   ],
   "source": [
    "df_invoice_by_customer = df.groupby(by=['CustomerID'])\\\n",
    "                           .InvoiceDate\\\n",
    "                           .nunique()\\\n",
    "                           .reset_index()\\\n",
    "                           .sort_values(by=['InvoiceDate'], ascending=False)\n",
    "\n",
    "\n",
    "df_invoice_by_customer = df_invoice_by_customer.rename(columns={\"InvoiceDate\":\"Count\"})\n",
    "\n",
    "# Reset Index\n",
    "\n",
    "df_invoice_by_customer = df_invoice_by_customer.reset_index()\n",
    "\n",
    "# 5 point summary of data\n",
    "\n",
    "df_invoice_by_customer.Count.describe()\n",
    "\n",
    "# 75% of the distribution is below 5. We can split the bins into 1,2-5,6+ sizes\n",
    "\n",
    "# Write a lamda function to populate the same"
   ]
  },
  {
   "cell_type": "code",
   "execution_count": 34,
   "metadata": {},
   "outputs": [],
   "source": [
    "# Plot the data\n",
    "\n",
    "s = df_invoice_by_customer.Count\n",
    "\n",
    "ax = s.plot.kde(bw_method=.5)\n"
   ]
  },
  {
   "cell_type": "code",
   "execution_count": 53,
   "metadata": {},
   "outputs": [
    {
     "data": {
      "text/plain": [
       "<matplotlib.axes._subplots.AxesSubplot at 0x12dfccfd0>"
      ]
     },
     "execution_count": 53,
     "metadata": {},
     "output_type": "execute_result"
    },
    {
     "data": {
      "image/png": "[encoded data removed]",
      "text/plain": [
       "<Figure size 360x1080 with 1 Axes>"
      ]
     },
     "metadata": {
      "needs_background": "light"
     },
     "output_type": "display_data"
    }
   ],
   "source": [
    "# Boxplot\n",
    "\n",
    "df_invoice_by_customer.boxplot(column='Count',\n",
    "                               grid=True,\n",
    "                               figsize=(5,15),\n",
    "                               fontsize=14,\n",
    "                               return_type='axes'\n",
    "                                      \n",
    "                              )"
   ]
  },
  {
   "cell_type": "code",
   "execution_count": 36,
   "metadata": {},
   "outputs": [
    {
     "data": {
      "text/html": [
       "<div>\n",
       "<style scoped>\n",
       "    .dataframe tbody tr th:only-of-type {\n",
       "        vertical-align: middle;\n",
       "    }\n",
       "\n",
       "    .dataframe tbody tr th {\n",
       "        vertical-align: top;\n",
       "    }\n",
       "\n",
       "    .dataframe thead th {\n",
       "        text-align: right;\n",
       "    }\n",
       "</style>\n",
       "<table border=\"1\" class=\"dataframe\">\n",
       "  <thead>\n",
       "    <tr style=\"text-align: right;\">\n",
       "      <th></th>\n",
       "      <th>level_0</th>\n",
       "      <th>index</th>\n",
       "      <th>CustomerID</th>\n",
       "      <th>Count</th>\n",
       "      <th>buying_freq</th>\n",
       "    </tr>\n",
       "  </thead>\n",
       "  <tbody>\n",
       "    <tr>\n",
       "      <th>0</th>\n",
       "      <td>0</td>\n",
       "      <td>1895</td>\n",
       "      <td>14911.0</td>\n",
       "      <td>248</td>\n",
       "      <td>high-freq</td>\n",
       "    </tr>\n",
       "    <tr>\n",
       "      <th>1</th>\n",
       "      <td>1</td>\n",
       "      <td>330</td>\n",
       "      <td>12748.0</td>\n",
       "      <td>225</td>\n",
       "      <td>high-freq</td>\n",
       "    </tr>\n",
       "    <tr>\n",
       "      <th>2</th>\n",
       "      <td>2</td>\n",
       "      <td>4042</td>\n",
       "      <td>17841.0</td>\n",
       "      <td>168</td>\n",
       "      <td>high-freq</td>\n",
       "    </tr>\n",
       "    <tr>\n",
       "      <th>3</th>\n",
       "      <td>3</td>\n",
       "      <td>1674</td>\n",
       "      <td>14606.0</td>\n",
       "      <td>129</td>\n",
       "      <td>high-freq</td>\n",
       "    </tr>\n",
       "    <tr>\n",
       "      <th>4</th>\n",
       "      <td>4</td>\n",
       "      <td>2192</td>\n",
       "      <td>15311.0</td>\n",
       "      <td>118</td>\n",
       "      <td>high-freq</td>\n",
       "    </tr>\n",
       "  </tbody>\n",
       "</table>\n",
       "</div>"
      ],
      "text/plain": [
       "   level_0  index  CustomerID  Count buying_freq\n",
       "0        0   1895     14911.0    248   high-freq\n",
       "1        1    330     12748.0    225   high-freq\n",
       "2        2   4042     17841.0    168   high-freq\n",
       "3        3   1674     14606.0    129   high-freq\n",
       "4        4   2192     15311.0    118   high-freq"
      ]
     },
     "execution_count": 36,
     "metadata": {},
     "output_type": "execute_result"
    }
   ],
   "source": [
    "# Add New column 'buying_freq'\n",
    "\n",
    "df_invoice_by_customer['buying_freq'] = df_invoice_by_customer['Count'].apply(buying_freq)\n",
    "\n",
    "df_invoice_by_customer = df_invoice_by_customer.reset_index()\n",
    "\n",
    "df_invoice_by_customer.head()"
   ]
  },
  {
   "cell_type": "markdown",
   "metadata": {},
   "source": [
    "### 2 Quantity Analysis"
   ]
  },
  {
   "cell_type": "code",
   "execution_count": 37,
   "metadata": {},
   "outputs": [
    {
     "name": "stderr",
     "output_type": "stream",
     "text": [
      "/Users/rajeshpillai/anaconda3/lib/python3.7/site-packages/ipykernel_launcher.py:15: UserWarning: Boolean Series key will be reindexed to match DataFrame index.\n",
      "  from ipykernel import kernelapp as app\n"
     ]
    },
    {
     "data": {
      "text/html": [
       "<div>\n",
       "<style scoped>\n",
       "    .dataframe tbody tr th:only-of-type {\n",
       "        vertical-align: middle;\n",
       "    }\n",
       "\n",
       "    .dataframe tbody tr th {\n",
       "        vertical-align: top;\n",
       "    }\n",
       "\n",
       "    .dataframe thead th {\n",
       "        text-align: right;\n",
       "    }\n",
       "</style>\n",
       "<table border=\"1\" class=\"dataframe\">\n",
       "  <thead>\n",
       "    <tr style=\"text-align: right;\">\n",
       "      <th></th>\n",
       "      <th>CustomerID</th>\n",
       "      <th>StockCode</th>\n",
       "      <th>Quantity</th>\n",
       "    </tr>\n",
       "  </thead>\n",
       "  <tbody>\n",
       "    <tr>\n",
       "      <th>2395</th>\n",
       "      <td>16734.0</td>\n",
       "      <td>84674</td>\n",
       "      <td>1</td>\n",
       "    </tr>\n",
       "    <tr>\n",
       "      <th>2396</th>\n",
       "      <td>16719.0</td>\n",
       "      <td>22501</td>\n",
       "      <td>1</td>\n",
       "    </tr>\n",
       "    <tr>\n",
       "      <th>2397</th>\n",
       "      <td>15039.0</td>\n",
       "      <td>22682</td>\n",
       "      <td>1</td>\n",
       "    </tr>\n",
       "    <tr>\n",
       "      <th>2398</th>\n",
       "      <td>16719.0</td>\n",
       "      <td>22468</td>\n",
       "      <td>1</td>\n",
       "    </tr>\n",
       "    <tr>\n",
       "      <th>2399</th>\n",
       "      <td>13047.0</td>\n",
       "      <td>23118</td>\n",
       "      <td>1</td>\n",
       "    </tr>\n",
       "  </tbody>\n",
       "</table>\n",
       "</div>"
      ],
      "text/plain": [
       "      CustomerID StockCode  Quantity\n",
       "2395     16734.0     84674         1\n",
       "2396     16719.0     22501         1\n",
       "2397     15039.0     22682         1\n",
       "2398     16719.0     22468         1\n",
       "2399     13047.0     23118         1"
      ]
     },
     "execution_count": 37,
     "metadata": {},
     "output_type": "execute_result"
    }
   ],
   "source": [
    "df_quantity_analysis = df.copy()\n",
    "\n",
    "df_quantity_analysis = df_quantity_analysis[['CustomerID','StockCode','Quantity']]\n",
    "\n",
    "# Aggregate by Customer\n",
    "\n",
    "df_quantity_analysis = df_quantity_analysis\\\n",
    "                                        .groupby(by=['CustomerID','StockCode'])\\\n",
    "                                        .Quantity\\\n",
    "                                        .sum()\\\n",
    "                                        .sort_values(ascending=True)\\\n",
    "                                        .reset_index()\n",
    "# Drop negative quantities as it is not relevant for analysis\n",
    "\n",
    "df_quantity_analysis = df_quantity_analysis[(df_quantity_analysis.Quantity.sort_values()<5000) & (df_quantity_analysis.Quantity.sort_values()>0)]\n",
    "                                            \n",
    "\n",
    "df_quantity_analysis.head()\n",
    "\n",
    "\n",
    "\n",
    "\n",
    "\n"
   ]
  },
  {
   "cell_type": "markdown",
   "metadata": {},
   "source": [
    "We see that the outliers beyond 3000 are not required since those transactions have been cancelled out.\n",
    "So we remove all quantities below 0"
   ]
  },
  {
   "cell_type": "code",
   "execution_count": 38,
   "metadata": {},
   "outputs": [
    {
     "data": {
      "text/plain": [
       "<matplotlib.axes._subplots.AxesSubplot at 0x12e1fd390>"
      ]
     },
     "execution_count": 38,
     "metadata": {},
     "output_type": "execute_result"
    },
    {
     "data": {
      "image/png": "[encoded data removed]",
      "text/plain": [
       "<Figure size 720x720 with 1 Axes>"
      ]
     },
     "metadata": {
      "needs_background": "light"
     },
     "output_type": "display_data"
    }
   ],
   "source": [
    "df_quantity_analysis.boxplot(column='Quantity',\n",
    "                               grid=True,\n",
    "                               figsize=(10,10),\n",
    "                               fontsize=14,\n",
    "                               return_type='axes'\n",
    "                                      \n",
    "                              )"
   ]
  },
  {
   "cell_type": "code",
   "execution_count": 39,
   "metadata": {},
   "outputs": [],
   "source": [
    "#df_quantity_analysis.Quantity.plot.kde()"
   ]
  },
  {
   "cell_type": "code",
   "execution_count": 40,
   "metadata": {},
   "outputs": [
    {
     "data": {
      "text/plain": [
       "<matplotlib.axes._subplots.AxesSubplot at 0x1333c3f98>"
      ]
     },
     "execution_count": 40,
     "metadata": {},
     "output_type": "execute_result"
    },
    {
     "data": {
      "image/png": "[encoded data removed]",
      "text/plain": [
       "<Figure size 720x720 with 1 Axes>"
      ]
     },
     "metadata": {
      "needs_background": "light"
     },
     "output_type": "display_data"
    }
   ],
   "source": [
    "df_quantity_analysis.boxplot(column='Quantity',\n",
    "                               grid=True,\n",
    "                               figsize=(10,10),\n",
    "                               fontsize=14,\n",
    "                               return_type='axes'\n",
    "                                      \n",
    "                              )"
   ]
  },
  {
   "cell_type": "code",
   "execution_count": 41,
   "metadata": {},
   "outputs": [
    {
     "data": {
      "text/plain": [
       "{'count': 265207.0,\n",
       " 'mean': 18.20584675366789,\n",
       " 'std': 77.56141287317637,\n",
       " 'min': 1.0,\n",
       " '25%': 2.0,\n",
       " '50%': 6.0,\n",
       " '75%': 12.0,\n",
       " 'max': 4801.0}"
      ]
     },
     "execution_count": 41,
     "metadata": {},
     "output_type": "execute_result"
    }
   ],
   "source": [
    "qty_analysis = df_quantity_analysis.Quantity.describe().to_dict()\n",
    "\n",
    "qty_analysis"
   ]
  },
  {
   "cell_type": "code",
   "execution_count": 42,
   "metadata": {},
   "outputs": [
    {
     "data": {
      "text/plain": [
       "2.0"
      ]
     },
     "execution_count": 42,
     "metadata": {},
     "output_type": "execute_result"
    }
   ],
   "source": [
    "qty_analysis['25%']"
   ]
  },
  {
   "cell_type": "code",
   "execution_count": 43,
   "metadata": {},
   "outputs": [
    {
     "data": {
      "text/plain": [
       "count     158.000000\n",
       "mean       43.873418\n",
       "std       250.201874\n",
       "min         1.000000\n",
       "25%         9.000000\n",
       "50%        18.000000\n",
       "75%        18.000000\n",
       "max      3114.000000\n",
       "Name: Quantity, dtype: float64"
      ]
     },
     "execution_count": 43,
     "metadata": {},
     "output_type": "execute_result"
    },
    {
     "data": {
      "image/png": "[encoded data removed]",
      "text/plain": [
       "<Figure size 432x288 with 1 Axes>"
      ]
     },
     "metadata": {
      "needs_background": "light"
     },
     "output_type": "display_data"
    }
   ],
   "source": [
    "# Product wise quantity distribution\n",
    "\n",
    "df_quantity_analysis[df_quantity_analysis.StockCode==21108].Quantity.hist(bins=20)\n",
    "\n",
    "\n",
    "df_quantity_analysis[df_quantity_analysis.StockCode==21108].Quantity.describe()"
   ]
  },
  {
   "cell_type": "code",
   "execution_count": 44,
   "metadata": {},
   "outputs": [
    {
     "data": {
      "text/html": [
       "<div>\n",
       "<style scoped>\n",
       "    .dataframe tbody tr th:only-of-type {\n",
       "        vertical-align: middle;\n",
       "    }\n",
       "\n",
       "    .dataframe tbody tr th {\n",
       "        vertical-align: top;\n",
       "    }\n",
       "\n",
       "    .dataframe thead th {\n",
       "        text-align: right;\n",
       "    }\n",
       "</style>\n",
       "<table border=\"1\" class=\"dataframe\">\n",
       "  <thead>\n",
       "    <tr style=\"text-align: right;\">\n",
       "      <th></th>\n",
       "      <th>index</th>\n",
       "      <th>CustomerID</th>\n",
       "      <th>StockCode</th>\n",
       "      <th>Quantity</th>\n",
       "      <th>qty</th>\n",
       "    </tr>\n",
       "  </thead>\n",
       "  <tbody>\n",
       "    <tr>\n",
       "      <th>0</th>\n",
       "      <td>2395</td>\n",
       "      <td>16734.0</td>\n",
       "      <td>84674</td>\n",
       "      <td>1</td>\n",
       "      <td>low</td>\n",
       "    </tr>\n",
       "    <tr>\n",
       "      <th>1</th>\n",
       "      <td>2396</td>\n",
       "      <td>16719.0</td>\n",
       "      <td>22501</td>\n",
       "      <td>1</td>\n",
       "      <td>low</td>\n",
       "    </tr>\n",
       "    <tr>\n",
       "      <th>2</th>\n",
       "      <td>2397</td>\n",
       "      <td>15039.0</td>\n",
       "      <td>22682</td>\n",
       "      <td>1</td>\n",
       "      <td>low</td>\n",
       "    </tr>\n",
       "    <tr>\n",
       "      <th>3</th>\n",
       "      <td>2398</td>\n",
       "      <td>16719.0</td>\n",
       "      <td>22468</td>\n",
       "      <td>1</td>\n",
       "      <td>low</td>\n",
       "    </tr>\n",
       "    <tr>\n",
       "      <th>4</th>\n",
       "      <td>2399</td>\n",
       "      <td>13047.0</td>\n",
       "      <td>23118</td>\n",
       "      <td>1</td>\n",
       "      <td>low</td>\n",
       "    </tr>\n",
       "  </tbody>\n",
       "</table>\n",
       "</div>"
      ],
      "text/plain": [
       "   index  CustomerID StockCode  Quantity  qty\n",
       "0   2395     16734.0     84674         1  low\n",
       "1   2396     16719.0     22501         1  low\n",
       "2   2397     15039.0     22682         1  low\n",
       "3   2398     16719.0     22468         1  low\n",
       "4   2399     13047.0     23118         1  low"
      ]
     },
     "execution_count": 44,
     "metadata": {},
     "output_type": "execute_result"
    }
   ],
   "source": [
    "# Add New column 'qty'\n",
    "\n",
    "\n",
    "df_quantity_analysis['qty'] = df_quantity_analysis\\\n",
    "                                                  .apply(lambda df_quantity_analysis:qty_freq(df_quantity_analysis['Quantity'],\\\n",
    "                                                    qty_analysis), axis=1)\n",
    "\n",
    "df_quantity_analysis = df_quantity_analysis.reset_index()\n",
    "\n",
    "df_quantity_analysis.head()"
   ]
  },
  {
   "cell_type": "markdown",
   "metadata": {},
   "source": [
    "### Basket Analysis\n",
    "\n",
    "#### a: High b: Mid c: Low\n",
    "\n",
    "### Analysis\n",
    "\n",
    "What we explore is to find Customers who buy expensive, mid range and low price items.\n",
    "In the present analysis we do not have product categorisation, so we cannot compare within individual categories.\n"
   ]
  },
  {
   "cell_type": "code",
   "execution_count": 45,
   "metadata": {},
   "outputs": [],
   "source": [
    "def price_range(Price, price_analysis):\n",
    "    \n",
    "    price = Price\n",
    "    \n",
    "    pr_50 = price_analysis['50%']\n",
    "    pr_75 = price_analysis['75%']\n",
    "    \n",
    "    if price < pr_50:\n",
    "        val = 'low'\n",
    "    \n",
    "    elif price >pr_75:\n",
    "        val = 'high'\n",
    "    \n",
    "    else :\n",
    "        val ='medium'\n",
    "    \n",
    "    return val"
   ]
  },
  {
   "cell_type": "code",
   "execution_count": 46,
   "metadata": {},
   "outputs": [
    {
     "data": {
      "text/html": [
       "<div>\n",
       "<style scoped>\n",
       "    .dataframe tbody tr th:only-of-type {\n",
       "        vertical-align: middle;\n",
       "    }\n",
       "\n",
       "    .dataframe tbody tr th {\n",
       "        vertical-align: top;\n",
       "    }\n",
       "\n",
       "    .dataframe thead th {\n",
       "        text-align: right;\n",
       "    }\n",
       "</style>\n",
       "<table border=\"1\" class=\"dataframe\">\n",
       "  <thead>\n",
       "    <tr style=\"text-align: right;\">\n",
       "      <th></th>\n",
       "      <th>InvoiceNo</th>\n",
       "      <th>StockCode</th>\n",
       "      <th>Description</th>\n",
       "      <th>Quantity</th>\n",
       "      <th>InvoiceDate</th>\n",
       "      <th>UnitPrice</th>\n",
       "      <th>CustomerID</th>\n",
       "      <th>Country</th>\n",
       "      <th>Total</th>\n",
       "      <th>DateYMD</th>\n",
       "    </tr>\n",
       "  </thead>\n",
       "  <tbody>\n",
       "    <tr>\n",
       "      <th>0</th>\n",
       "      <td>536365</td>\n",
       "      <td>85123A</td>\n",
       "      <td>WHITE HANGING HEART T-LIGHT HOLDER</td>\n",
       "      <td>6</td>\n",
       "      <td>2010-12-01 08:26:00</td>\n",
       "      <td>2.55</td>\n",
       "      <td>17850.0</td>\n",
       "      <td>United Kingdom</td>\n",
       "      <td>15.30</td>\n",
       "      <td>20101201</td>\n",
       "    </tr>\n",
       "    <tr>\n",
       "      <th>1</th>\n",
       "      <td>536365</td>\n",
       "      <td>71053</td>\n",
       "      <td>WHITE METAL LANTERN</td>\n",
       "      <td>6</td>\n",
       "      <td>2010-12-01 08:26:00</td>\n",
       "      <td>3.39</td>\n",
       "      <td>17850.0</td>\n",
       "      <td>United Kingdom</td>\n",
       "      <td>20.34</td>\n",
       "      <td>20101201</td>\n",
       "    </tr>\n",
       "    <tr>\n",
       "      <th>2</th>\n",
       "      <td>536365</td>\n",
       "      <td>84406B</td>\n",
       "      <td>CREAM CUPID HEARTS COAT HANGER</td>\n",
       "      <td>8</td>\n",
       "      <td>2010-12-01 08:26:00</td>\n",
       "      <td>2.75</td>\n",
       "      <td>17850.0</td>\n",
       "      <td>United Kingdom</td>\n",
       "      <td>22.00</td>\n",
       "      <td>20101201</td>\n",
       "    </tr>\n",
       "    <tr>\n",
       "      <th>3</th>\n",
       "      <td>536365</td>\n",
       "      <td>84029G</td>\n",
       "      <td>KNITTED UNION FLAG HOT WATER BOTTLE</td>\n",
       "      <td>6</td>\n",
       "      <td>2010-12-01 08:26:00</td>\n",
       "      <td>3.39</td>\n",
       "      <td>17850.0</td>\n",
       "      <td>United Kingdom</td>\n",
       "      <td>20.34</td>\n",
       "      <td>20101201</td>\n",
       "    </tr>\n",
       "    <tr>\n",
       "      <th>4</th>\n",
       "      <td>536365</td>\n",
       "      <td>84029E</td>\n",
       "      <td>RED WOOLLY HOTTIE WHITE HEART.</td>\n",
       "      <td>6</td>\n",
       "      <td>2010-12-01 08:26:00</td>\n",
       "      <td>3.39</td>\n",
       "      <td>17850.0</td>\n",
       "      <td>United Kingdom</td>\n",
       "      <td>20.34</td>\n",
       "      <td>20101201</td>\n",
       "    </tr>\n",
       "  </tbody>\n",
       "</table>\n",
       "</div>"
      ],
      "text/plain": [
       "  InvoiceNo StockCode                          Description  Quantity  \\\n",
       "0    536365    85123A   WHITE HANGING HEART T-LIGHT HOLDER         6   \n",
       "1    536365     71053                  WHITE METAL LANTERN         6   \n",
       "2    536365    84406B       CREAM CUPID HEARTS COAT HANGER         8   \n",
       "3    536365    84029G  KNITTED UNION FLAG HOT WATER BOTTLE         6   \n",
       "4    536365    84029E       RED WOOLLY HOTTIE WHITE HEART.         6   \n",
       "\n",
       "          InvoiceDate  UnitPrice  CustomerID         Country  Total   DateYMD  \n",
       "0 2010-12-01 08:26:00       2.55     17850.0  United Kingdom  15.30  20101201  \n",
       "1 2010-12-01 08:26:00       3.39     17850.0  United Kingdom  20.34  20101201  \n",
       "2 2010-12-01 08:26:00       2.75     17850.0  United Kingdom  22.00  20101201  \n",
       "3 2010-12-01 08:26:00       3.39     17850.0  United Kingdom  20.34  20101201  \n",
       "4 2010-12-01 08:26:00       3.39     17850.0  United Kingdom  20.34  20101201  "
      ]
     },
     "execution_count": 46,
     "metadata": {},
     "output_type": "execute_result"
    }
   ],
   "source": [
    "df.head()"
   ]
  },
  {
   "cell_type": "code",
   "execution_count": 47,
   "metadata": {},
   "outputs": [
    {
     "name": "stderr",
     "output_type": "stream",
     "text": [
      "/Users/rajeshpillai/anaconda3/lib/python3.7/site-packages/ipykernel_launcher.py:16: UserWarning: Boolean Series key will be reindexed to match DataFrame index.\n",
      "  app.launch_new_instance()\n"
     ]
    },
    {
     "data": {
      "text/html": [
       "<div>\n",
       "<style scoped>\n",
       "    .dataframe tbody tr th:only-of-type {\n",
       "        vertical-align: middle;\n",
       "    }\n",
       "\n",
       "    .dataframe tbody tr th {\n",
       "        vertical-align: top;\n",
       "    }\n",
       "\n",
       "    .dataframe thead th {\n",
       "        text-align: right;\n",
       "    }\n",
       "</style>\n",
       "<table border=\"1\" class=\"dataframe\">\n",
       "  <thead>\n",
       "    <tr style=\"text-align: right;\">\n",
       "      <th></th>\n",
       "      <th>StockCode</th>\n",
       "      <th>Description</th>\n",
       "      <th>UnitPrice</th>\n",
       "    </tr>\n",
       "  </thead>\n",
       "  <tbody>\n",
       "    <tr>\n",
       "      <th>69</th>\n",
       "      <td>84990</td>\n",
       "      <td>60 GOLD AND SILVER FAIRY CAKE CASES</td>\n",
       "      <td>1.10</td>\n",
       "    </tr>\n",
       "    <tr>\n",
       "      <th>70</th>\n",
       "      <td>47013C</td>\n",
       "      <td>WINE BOTTLE DRESSING DARK BLUE</td>\n",
       "      <td>1.13</td>\n",
       "    </tr>\n",
       "    <tr>\n",
       "      <th>71</th>\n",
       "      <td>79336</td>\n",
       "      <td>LIGHT PINK FLOCK GLASS CANDLEHOLDER</td>\n",
       "      <td>1.14</td>\n",
       "    </tr>\n",
       "    <tr>\n",
       "      <th>72</th>\n",
       "      <td>35818B</td>\n",
       "      <td>ACRYLIC JEWEL ICICLE, BLUE</td>\n",
       "      <td>1.14</td>\n",
       "    </tr>\n",
       "    <tr>\n",
       "      <th>73</th>\n",
       "      <td>81950V</td>\n",
       "      <td>FLOWER PURPLE CLOCK WITH SUCKER</td>\n",
       "      <td>1.16</td>\n",
       "    </tr>\n",
       "  </tbody>\n",
       "</table>\n",
       "</div>"
      ],
      "text/plain": [
       "   StockCode                          Description  UnitPrice\n",
       "69     84990  60 GOLD AND SILVER FAIRY CAKE CASES       1.10\n",
       "70    47013C       WINE BOTTLE DRESSING DARK BLUE       1.13\n",
       "71     79336  LIGHT PINK FLOCK GLASS CANDLEHOLDER       1.14\n",
       "72    35818B           ACRYLIC JEWEL ICICLE, BLUE       1.14\n",
       "73    81950V      FLOWER PURPLE CLOCK WITH SUCKER       1.16"
      ]
     },
     "execution_count": 47,
     "metadata": {},
     "output_type": "execute_result"
    }
   ],
   "source": [
    "df_price_analysis = df.copy()\n",
    "\n",
    "df_price_analysis = df_price_analysis[['StockCode','Description','UnitPrice']]\n",
    "\n",
    "# Aggregate by Customer\n",
    "\n",
    "df_price_analysis = df_price_analysis\\\n",
    "                                    .groupby(by=['StockCode','Description'])\\\n",
    "                                    .UnitPrice\\\n",
    "                                    .sum()\\\n",
    "                                    .sort_values(ascending=True)\\\n",
    "                                    .reset_index()\n",
    "\n",
    "# Drop negative or zero price as it is not relevant for analysis\n",
    "\n",
    "df_price_analysis = df_price_analysis[(df_price_analysis.UnitPrice.sort_values()>1)]\n",
    "\n",
    "# Shape of data\n",
    "df_price_analysis.head()"
   ]
  },
  {
   "cell_type": "code",
   "execution_count": 48,
   "metadata": {},
   "outputs": [
    {
     "data": {
      "text/plain": [
       "{'count': 963.0,\n",
       " 'mean': 1157.5140186915887,\n",
       " 'std': 5351.568355479426,\n",
       " 'min': 1.0,\n",
       " '25%': 244.5,\n",
       " '50%': 577.0,\n",
       " '75%': 1184.0,\n",
       " 'max': 155508.0}"
      ]
     },
     "execution_count": 48,
     "metadata": {},
     "output_type": "execute_result"
    }
   ],
   "source": [
    "# Price analysis\n",
    "\n",
    "df_price_analysis['Price'] = df_price_analysis.UnitPrice.round(0).astype('int')\n",
    "\n",
    "price_analysis = pd.DataFrame(df_price_analysis.Price.unique())\n",
    "\n",
    "price_analysis = price_analysis[0].describe().to_dict()\n",
    "\n",
    "price_analysis"
   ]
  },
  {
   "cell_type": "code",
   "execution_count": 49,
   "metadata": {},
   "outputs": [
    {
     "data": {
      "text/html": [
       "<div>\n",
       "<style scoped>\n",
       "    .dataframe tbody tr th:only-of-type {\n",
       "        vertical-align: middle;\n",
       "    }\n",
       "\n",
       "    .dataframe tbody tr th {\n",
       "        vertical-align: top;\n",
       "    }\n",
       "\n",
       "    .dataframe thead th {\n",
       "        text-align: right;\n",
       "    }\n",
       "</style>\n",
       "<table border=\"1\" class=\"dataframe\">\n",
       "  <thead>\n",
       "    <tr style=\"text-align: right;\">\n",
       "      <th></th>\n",
       "      <th>StockCode</th>\n",
       "      <th>Description</th>\n",
       "      <th>UnitPrice</th>\n",
       "      <th>Price</th>\n",
       "      <th>Price_range</th>\n",
       "    </tr>\n",
       "  </thead>\n",
       "  <tbody>\n",
       "    <tr>\n",
       "      <th>0</th>\n",
       "      <td>84990</td>\n",
       "      <td>60 GOLD AND SILVER FAIRY CAKE CASES</td>\n",
       "      <td>1.10</td>\n",
       "      <td>1</td>\n",
       "      <td>low</td>\n",
       "    </tr>\n",
       "    <tr>\n",
       "      <th>1</th>\n",
       "      <td>47013C</td>\n",
       "      <td>WINE BOTTLE DRESSING DARK BLUE</td>\n",
       "      <td>1.13</td>\n",
       "      <td>1</td>\n",
       "      <td>low</td>\n",
       "    </tr>\n",
       "    <tr>\n",
       "      <th>2</th>\n",
       "      <td>79336</td>\n",
       "      <td>LIGHT PINK FLOCK GLASS CANDLEHOLDER</td>\n",
       "      <td>1.14</td>\n",
       "      <td>1</td>\n",
       "      <td>low</td>\n",
       "    </tr>\n",
       "    <tr>\n",
       "      <th>3</th>\n",
       "      <td>35818B</td>\n",
       "      <td>ACRYLIC JEWEL ICICLE, BLUE</td>\n",
       "      <td>1.14</td>\n",
       "      <td>1</td>\n",
       "      <td>low</td>\n",
       "    </tr>\n",
       "    <tr>\n",
       "      <th>4</th>\n",
       "      <td>81950V</td>\n",
       "      <td>FLOWER PURPLE CLOCK WITH SUCKER</td>\n",
       "      <td>1.16</td>\n",
       "      <td>1</td>\n",
       "      <td>low</td>\n",
       "    </tr>\n",
       "  </tbody>\n",
       "</table>\n",
       "</div>"
      ],
      "text/plain": [
       "  StockCode                          Description  UnitPrice  Price Price_range\n",
       "0     84990  60 GOLD AND SILVER FAIRY CAKE CASES       1.10      1         low\n",
       "1    47013C       WINE BOTTLE DRESSING DARK BLUE       1.13      1         low\n",
       "2     79336  LIGHT PINK FLOCK GLASS CANDLEHOLDER       1.14      1         low\n",
       "3    35818B           ACRYLIC JEWEL ICICLE, BLUE       1.14      1         low\n",
       "4    81950V      FLOWER PURPLE CLOCK WITH SUCKER       1.16      1         low"
      ]
     },
     "execution_count": 49,
     "metadata": {},
     "output_type": "execute_result"
    }
   ],
   "source": [
    "# Add New column 'price_range'\n",
    "\n",
    "\n",
    "df_price_analysis['Price_range'] = df_price_analysis\\\n",
    "                                                  .apply(lambda df_price_analysis: \\\n",
    "                                                  price_range(df_price_analysis['Price'],\\\n",
    "                                                  price_analysis), axis=1)\n",
    "\n",
    "df_price_analysis = df_price_analysis.reset_index(drop=True)\n",
    "\n",
    "df_price_analysis.head()"
   ]
  },
  {
   "cell_type": "markdown",
   "metadata": {},
   "source": [
    "Question: A customer would have purchased multiple products how we define their affinity as high, medium, low?\n",
    "\n",
    "We can merge with the transaction table and see the distribution of data"
   ]
  },
  {
   "cell_type": "markdown",
   "metadata": {},
   "source": [
    "### Market Basket Analysis\n",
    "\n",
    "First we have to group by the transactions around each invoice number."
   ]
  },
  {
   "cell_type": "code",
   "execution_count": 50,
   "metadata": {},
   "outputs": [
    {
     "data": {
      "text/html": [
       "<div>\n",
       "<style scoped>\n",
       "    .dataframe tbody tr th:only-of-type {\n",
       "        vertical-align: middle;\n",
       "    }\n",
       "\n",
       "    .dataframe tbody tr th {\n",
       "        vertical-align: top;\n",
       "    }\n",
       "\n",
       "    .dataframe thead th {\n",
       "        text-align: right;\n",
       "    }\n",
       "</style>\n",
       "<table border=\"1\" class=\"dataframe\">\n",
       "  <thead>\n",
       "    <tr style=\"text-align: right;\">\n",
       "      <th></th>\n",
       "      <th>InvoiceNo</th>\n",
       "      <th>Purchase_List</th>\n",
       "    </tr>\n",
       "  </thead>\n",
       "  <tbody>\n",
       "    <tr>\n",
       "      <th>0</th>\n",
       "      <td>536365</td>\n",
       "      <td>[85123A, 71053, 84406B, 84029G, 84029E, 22752,...</td>\n",
       "    </tr>\n",
       "    <tr>\n",
       "      <th>7</th>\n",
       "      <td>536366</td>\n",
       "      <td>[22633, 22632]</td>\n",
       "    </tr>\n",
       "    <tr>\n",
       "      <th>9</th>\n",
       "      <td>536367</td>\n",
       "      <td>[84879, 22745, 22748, 22749, 22310, 84969, 226...</td>\n",
       "    </tr>\n",
       "    <tr>\n",
       "      <th>21</th>\n",
       "      <td>536368</td>\n",
       "      <td>[22960, 22913, 22912, 22914]</td>\n",
       "    </tr>\n",
       "    <tr>\n",
       "      <th>25</th>\n",
       "      <td>536369</td>\n",
       "      <td>[21756]</td>\n",
       "    </tr>\n",
       "  </tbody>\n",
       "</table>\n",
       "</div>"
      ],
      "text/plain": [
       "   InvoiceNo                                      Purchase_List\n",
       "0     536365  [85123A, 71053, 84406B, 84029G, 84029E, 22752,...\n",
       "7     536366                                     [22633, 22632]\n",
       "9     536367  [84879, 22745, 22748, 22749, 22310, 84969, 226...\n",
       "21    536368                       [22960, 22913, 22912, 22914]\n",
       "25    536369                                            [21756]"
      ]
     },
     "execution_count": 50,
     "metadata": {},
     "output_type": "execute_result"
    }
   ],
   "source": [
    "df_MBA = df.copy()\n",
    "\n",
    "df_MBA = df_MBA[['InvoiceNo','StockCode']]\n",
    "\n",
    "df_MBA = df_MBA.set_index('InvoiceNo')\n",
    "\n",
    "df_MBA['Purchase_List'] = df_MBA\\\n",
    "                                .groupby('InvoiceNo')\\\n",
    "                                .apply(lambda x: x['StockCode']\\\n",
    "                                                .values\\\n",
    "                                                .tolist()\\\n",
    "                                      )\n",
    "\n",
    "df_MBA = df_MBA.drop(\n",
    "                columns=['StockCode'])\\\n",
    "               .reset_index()\\\n",
    "               .drop_duplicates(\n",
    "                                subset='InvoiceNo', keep='first'\n",
    "                               )\n",
    "\n",
    "df_MBA.head()"
   ]
  },
  {
   "cell_type": "code",
   "execution_count": 51,
   "metadata": {},
   "outputs": [
    {
     "ename": "NameError",
     "evalue": "name 'store_data' is not defined",
     "output_type": "error",
     "traceback": [
      "\u001b[0;31m---------------------------------------------------------------------------\u001b[0m",
      "\u001b[0;31mNameError\u001b[0m                                 Traceback (most recent call last)",
      "\u001b[0;32m<ipython-input-51-ce18e5815c86>\u001b[0m in \u001b[0;36m<module>\u001b[0;34m\u001b[0m\n\u001b[1;32m      9\u001b[0m \u001b[0mrecords\u001b[0m \u001b[0;34m=\u001b[0m \u001b[0;34m[\u001b[0m\u001b[0;34m]\u001b[0m\u001b[0;34m\u001b[0m\u001b[0;34m\u001b[0m\u001b[0m\n\u001b[1;32m     10\u001b[0m \u001b[0;32mfor\u001b[0m \u001b[0mi\u001b[0m \u001b[0;32min\u001b[0m \u001b[0mrange\u001b[0m\u001b[0;34m(\u001b[0m\u001b[0;36m0\u001b[0m\u001b[0;34m,\u001b[0m \u001b[0;36m7501\u001b[0m\u001b[0;34m)\u001b[0m\u001b[0;34m:\u001b[0m\u001b[0;34m\u001b[0m\u001b[0;34m\u001b[0m\u001b[0m\n\u001b[0;32m---> 11\u001b[0;31m     \u001b[0mrecords\u001b[0m\u001b[0;34m.\u001b[0m\u001b[0mappend\u001b[0m\u001b[0;34m(\u001b[0m\u001b[0;34m[\u001b[0m\u001b[0mstr\u001b[0m\u001b[0;34m(\u001b[0m\u001b[0mstore_data\u001b[0m\u001b[0;34m.\u001b[0m\u001b[0mvalues\u001b[0m\u001b[0;34m[\u001b[0m\u001b[0mi\u001b[0m\u001b[0;34m,\u001b[0m\u001b[0mj\u001b[0m\u001b[0;34m]\u001b[0m\u001b[0;34m)\u001b[0m \u001b[0;32mfor\u001b[0m \u001b[0mj\u001b[0m \u001b[0;32min\u001b[0m \u001b[0mrange\u001b[0m\u001b[0;34m(\u001b[0m\u001b[0;36m0\u001b[0m\u001b[0;34m,\u001b[0m \u001b[0;36m20\u001b[0m\u001b[0;34m)\u001b[0m\u001b[0;34m]\u001b[0m\u001b[0;34m)\u001b[0m\u001b[0;34m\u001b[0m\u001b[0;34m\u001b[0m\u001b[0m\n\u001b[0m",
      "\u001b[0;32m<ipython-input-51-ce18e5815c86>\u001b[0m in \u001b[0;36m<listcomp>\u001b[0;34m(.0)\u001b[0m\n\u001b[1;32m      9\u001b[0m \u001b[0mrecords\u001b[0m \u001b[0;34m=\u001b[0m \u001b[0;34m[\u001b[0m\u001b[0;34m]\u001b[0m\u001b[0;34m\u001b[0m\u001b[0;34m\u001b[0m\u001b[0m\n\u001b[1;32m     10\u001b[0m \u001b[0;32mfor\u001b[0m \u001b[0mi\u001b[0m \u001b[0;32min\u001b[0m \u001b[0mrange\u001b[0m\u001b[0;34m(\u001b[0m\u001b[0;36m0\u001b[0m\u001b[0;34m,\u001b[0m \u001b[0;36m7501\u001b[0m\u001b[0;34m)\u001b[0m\u001b[0;34m:\u001b[0m\u001b[0;34m\u001b[0m\u001b[0;34m\u001b[0m\u001b[0m\n\u001b[0;32m---> 11\u001b[0;31m     \u001b[0mrecords\u001b[0m\u001b[0;34m.\u001b[0m\u001b[0mappend\u001b[0m\u001b[0;34m(\u001b[0m\u001b[0;34m[\u001b[0m\u001b[0mstr\u001b[0m\u001b[0;34m(\u001b[0m\u001b[0mstore_data\u001b[0m\u001b[0;34m.\u001b[0m\u001b[0mvalues\u001b[0m\u001b[0;34m[\u001b[0m\u001b[0mi\u001b[0m\u001b[0;34m,\u001b[0m\u001b[0mj\u001b[0m\u001b[0;34m]\u001b[0m\u001b[0;34m)\u001b[0m \u001b[0;32mfor\u001b[0m \u001b[0mj\u001b[0m \u001b[0;32min\u001b[0m \u001b[0mrange\u001b[0m\u001b[0;34m(\u001b[0m\u001b[0;36m0\u001b[0m\u001b[0;34m,\u001b[0m \u001b[0;36m20\u001b[0m\u001b[0;34m)\u001b[0m\u001b[0;34m]\u001b[0m\u001b[0;34m)\u001b[0m\u001b[0;34m\u001b[0m\u001b[0;34m\u001b[0m\u001b[0m\n\u001b[0m",
      "\u001b[0;31mNameError\u001b[0m: name 'store_data' is not defined"
     ]
    }
   ],
   "source": [
    "df2 = df.copy()\n",
    "\n",
    "df2 = df2[['InvoiceNo','StockCode']].set_index('InvoiceNo')\n",
    "\n",
    "\n",
    "\n",
    "\n",
    "\n",
    "records = []\n",
    "for i in range(0, 7501):\n",
    "    records.append([str(store_data.values[i,j]) for j in range(0, 20)])\n"
   ]
  },
  {
   "cell_type": "code",
   "execution_count": null,
   "metadata": {},
   "outputs": [],
   "source": [
    "# Exclude the ones which are below 2 and the one above 10\n",
    "\n",
    "df_MBA = df_MBA[df_MBA['Purchase_List'].str.len().sort_values()>1]\n",
    "\n",
    "print('After dropping 1 purchases:', len(df_MBA))\n",
    "\n",
    "df_MBA = df_MBA[df_MBA['Purchase_List'].str.len().sort_values()<10]\n",
    "\n",
    "print('After dropping above 10 purchases:', len(df_MBA))\n",
    "\n",
    "df_MBA.head()"
   ]
  },
  {
   "cell_type": "code",
   "execution_count": null,
   "metadata": {},
   "outputs": [],
   "source": [
    "# Market Basket Analysis\n",
    "\n",
    "from apyori import apriori\n",
    "\n",
    "transactions = df_MBA['Purchase_List'].astype('str').values.tolist()\n",
    "\n",
    "\n",
    "#results = list(apriori(transactions))\n",
    "\n",
    "association_rules = apriori(\n",
    "                            transactions, \n",
    "                            min_support=0.8,\n",
    "                            min_confidence =0.8, \n",
    "                            min_lift =0.8\n",
    "                           )"
   ]
  },
  {
   "cell_type": "code",
   "execution_count": null,
   "metadata": {},
   "outputs": [],
   "source": [
    "type(transactions[1])"
   ]
  },
  {
   "cell_type": "code",
   "execution_count": null,
   "metadata": {},
   "outputs": [],
   "source": [
    "df[df.StockCode=='84029E']"
   ]
  },
  {
   "cell_type": "code",
   "execution_count": null,
   "metadata": {},
   "outputs": [],
   "source": [
    "transactions = df_MBA['Purchase_List']\n",
    "\n",
    "type(transactions)"
   ]
  },
  {
   "cell_type": "code",
   "execution_count": null,
   "metadata": {},
   "outputs": [],
   "source": [
    "########## Testing #############\n",
    "trans = [\n",
    " ['22633', '22632'],\n",
    " ['22632', '22633'],\n",
    " ['22114', '21733'],\n",
    " ['22632', '22633']\n",
    "]\n",
    "\n",
    "# Market Basket Analysis\n",
    "\n",
    "from apyori import apriori\n",
    "\n",
    "\n",
    "#results = list(apriori(transactions))\n",
    "\n",
    "association_rules = apriori(trans, \n",
    "                            min_support=0.5,\n",
    "                            min_confidence =0.5, \n",
    "                            min_lift =0.2\n",
    "                           )\n",
    "\n",
    "association_results = list(association_rules)\n",
    "\n",
    "print(association_results)"
   ]
  },
  {
   "cell_type": "code",
   "execution_count": null,
   "metadata": {},
   "outputs": [],
   "source": [
    "association_results = list(association_rules)\n",
    "\n",
    "print(association_results)"
   ]
  },
  {
   "cell_type": "code",
   "execution_count": null,
   "metadata": {},
   "outputs": [],
   "source": [
    "istRules = [list(MB[i][0]) for i in range(0,len(MB))]"
   ]
  },
  {
   "cell_type": "code",
   "execution_count": null,
   "metadata": {},
   "outputs": [],
   "source": [
    "RelationRecord(items=frozenset({' '}),\n",
    "               support=1.0,\n",
    "               ordered_statistics=\n",
    "               [OrderedStatistic(items_base=frozenset(), \n",
    "                                 items_add=frozenset({' '}), \n",
    "                                 confidence=1.0, \n",
    "                                 lift=1.0)]\n",
    "              )"
   ]
  }
 ],
 "metadata": {
  "kernelspec": {
   "display_name": "Python 3",
   "language": "python",
   "name": "python3"
  },
  "language_info": {
   "codemirror_mode": {
    "name": "ipython",
    "version": 3
   },
   "file_extension": ".py",
   "mimetype": "text/x-python",
   "name": "python",
   "nbconvert_exporter": "python",
   "pygments_lexer": "ipython3",
   "version": "3.7.3"
  }
 },
 "nbformat": 4,
 "nbformat_minor": 2
}
