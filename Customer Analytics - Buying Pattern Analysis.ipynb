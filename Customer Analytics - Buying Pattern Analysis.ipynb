{
 "cells": [
  {
   "cell_type": "markdown",
   "metadata": {},
   "source": [
    "## Customer Analytics \n",
    "\n",
    "### Buying Pattern Analysis\n",
    "\n",
    "### 1. Frequency of Purchase\n",
    "\n",
    "How often do customers purchase. Buying pattern classified into One-time, Intermittent, Frequent"
   ]
  },
  {
   "cell_type": "code",
   "execution_count": 86,
   "metadata": {},
   "outputs": [],
   "source": [
    "import pandas as pd\n",
    "import numpy as np\n",
    "import os\n",
    "\n",
    "df = pd.read_excel('/Users/rajeshpillai/Downloads/Online_Retail.xlsx',skiprows=0,header=0)\n",
    "\n",
    "df = df.dropna()\n",
    "\n"
   ]
  },
  {
   "cell_type": "markdown",
   "metadata": {},
   "source": [
    "#### Define Buying Frequency"
   ]
  },
  {
   "cell_type": "code",
   "execution_count": 90,
   "metadata": {},
   "outputs": [],
   "source": [
    "def buying_freq(count):\n",
    "    \n",
    "    if count ==1:\n",
    "        val = 'one-time'\n",
    "    \n",
    "    elif count >6:\n",
    "        val = 'high-freq'\n",
    "    \n",
    "    else :\n",
    "        val ='intermittent'\n",
    "    \n",
    "    return val"
   ]
  },
  {
   "cell_type": "code",
   "execution_count": 87,
   "metadata": {},
   "outputs": [
    {
     "data": {
      "text/plain": [
       "count    4372.000000\n",
       "mean        5.039799\n",
       "std         9.248607\n",
       "min         1.000000\n",
       "25%         1.000000\n",
       "50%         3.000000\n",
       "75%         5.000000\n",
       "max       248.000000\n",
       "Name: Count, dtype: float64"
      ]
     },
     "execution_count": 87,
     "metadata": {},
     "output_type": "execute_result"
    }
   ],
   "source": [
    "df_invoice_by_customer = df.groupby(by=['CustomerID'])\\\n",
    "                           .InvoiceDate\\\n",
    "                           .nunique()\\\n",
    "                           .reset_index()\\\n",
    "                           .sort_values(by=['InvoiceDate'], ascending=False)\n",
    "\n",
    "\n",
    "df_invoice_by_customer = df_invoice_by_customer.rename(columns={\"InvoiceDate\":\"Count\"})\n",
    "\n",
    "# Reset Index\n",
    "\n",
    "df_invoice_by_customer = df_invoice_by_customer.reset_index()\n",
    "\n",
    "# 5 point summary of data\n",
    "\n",
    "df_invoice_by_customer.Count.describe()\n",
    "\n",
    "# 75% of the distribution is below 5. We can split the bins into 1,2-5,6+ sizes\n",
    "\n",
    "# Write a lamda function to populate the same"
   ]
  },
  {
   "cell_type": "code",
   "execution_count": 88,
   "metadata": {},
   "outputs": [
    {
     "data": {
      "image/png": "[encoded data removed]",
      "text/plain": [
       "<Figure size 432x288 with 1 Axes>"
      ]
     },
     "metadata": {
      "needs_background": "light"
     },
     "output_type": "display_data"
    }
   ],
   "source": [
    "# Plot the data\n",
    "\n",
    "s = df_invoice_by_customer.Count\n",
    "\n",
    "ax = s.plot.kde(bw_method=.5)\n"
   ]
  },
  {
   "cell_type": "code",
   "execution_count": 89,
   "metadata": {},
   "outputs": [
    {
     "data": {
      "text/plain": [
       "<matplotlib.axes._subplots.AxesSubplot at 0x125932160>"
      ]
     },
     "execution_count": 89,
     "metadata": {},
     "output_type": "execute_result"
    },
    {
     "data": {
      "image/png": "[encoded data removed]",
      "text/plain": [
       "<Figure size 720x720 with 1 Axes>"
      ]
     },
     "metadata": {
      "needs_background": "light"
     },
     "output_type": "display_data"
    }
   ],
   "source": [
    "# Boxplot\n",
    "\n",
    "df_invoice_by_customer.boxplot(column='Count',\n",
    "                               grid=True,\n",
    "                               figsize=(10,10),\n",
    "                               fontsize=14,\n",
    "                               return_type='axes'\n",
    "                                      \n",
    "                              )"
   ]
  },
  {
   "cell_type": "code",
   "execution_count": 94,
   "metadata": {},
   "outputs": [
    {
     "data": {
      "text/html": [
       "<div>\n",
       "<style scoped>\n",
       "    .dataframe tbody tr th:only-of-type {\n",
       "        vertical-align: middle;\n",
       "    }\n",
       "\n",
       "    .dataframe tbody tr th {\n",
       "        vertical-align: top;\n",
       "    }\n",
       "\n",
       "    .dataframe thead th {\n",
       "        text-align: right;\n",
       "    }\n",
       "</style>\n",
       "<table border=\"1\" class=\"dataframe\">\n",
       "  <thead>\n",
       "    <tr style=\"text-align: right;\">\n",
       "      <th></th>\n",
       "      <th>level_0</th>\n",
       "      <th>index</th>\n",
       "      <th>CustomerID</th>\n",
       "      <th>Count</th>\n",
       "      <th>buying_freq</th>\n",
       "    </tr>\n",
       "  </thead>\n",
       "  <tbody>\n",
       "    <tr>\n",
       "      <th>0</th>\n",
       "      <td>0</td>\n",
       "      <td>1895</td>\n",
       "      <td>14911.0</td>\n",
       "      <td>248</td>\n",
       "      <td>high-freq</td>\n",
       "    </tr>\n",
       "    <tr>\n",
       "      <th>1</th>\n",
       "      <td>1</td>\n",
       "      <td>330</td>\n",
       "      <td>12748.0</td>\n",
       "      <td>225</td>\n",
       "      <td>high-freq</td>\n",
       "    </tr>\n",
       "    <tr>\n",
       "      <th>2</th>\n",
       "      <td>2</td>\n",
       "      <td>4042</td>\n",
       "      <td>17841.0</td>\n",
       "      <td>168</td>\n",
       "      <td>high-freq</td>\n",
       "    </tr>\n",
       "    <tr>\n",
       "      <th>3</th>\n",
       "      <td>3</td>\n",
       "      <td>1674</td>\n",
       "      <td>14606.0</td>\n",
       "      <td>129</td>\n",
       "      <td>high-freq</td>\n",
       "    </tr>\n",
       "    <tr>\n",
       "      <th>4</th>\n",
       "      <td>4</td>\n",
       "      <td>2192</td>\n",
       "      <td>15311.0</td>\n",
       "      <td>118</td>\n",
       "      <td>high-freq</td>\n",
       "    </tr>\n",
       "  </tbody>\n",
       "</table>\n",
       "</div>"
      ],
      "text/plain": [
       "   level_0  index  CustomerID  Count buying_freq\n",
       "0        0   1895     14911.0    248   high-freq\n",
       "1        1    330     12748.0    225   high-freq\n",
       "2        2   4042     17841.0    168   high-freq\n",
       "3        3   1674     14606.0    129   high-freq\n",
       "4        4   2192     15311.0    118   high-freq"
      ]
     },
     "execution_count": 94,
     "metadata": {},
     "output_type": "execute_result"
    }
   ],
   "source": [
    "# Add New column 'buying_freq'\n",
    "\n",
    "df_invoice_by_customer['buying_freq'] = df_invoice_by_customer['Count'].apply(buying_freq)\n",
    "\n",
    "df_invoice_by_customer = df_invoice_by_customer.reset_index()\n",
    "\n",
    "df_invoice_by_customer.head()"
   ]
  },
  {
   "cell_type": "code",
   "execution_count": null,
   "metadata": {},
   "outputs": [],
   "source": []
  }
 ],
 "metadata": {
  "kernelspec": {
   "display_name": "Python 3",
   "language": "python",
   "name": "python3"
  },
  "language_info": {
   "codemirror_mode": {
    "name": "ipython",
    "version": 3
   },
   "file_extension": ".py",
   "mimetype": "text/x-python",
   "name": "python",
   "nbconvert_exporter": "python",
   "pygments_lexer": "ipython3",
   "version": "3.7.3"
  }
 },
 "nbformat": 4,
 "nbformat_minor": 2
}
