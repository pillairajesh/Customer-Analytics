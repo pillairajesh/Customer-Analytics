{
 "cells": [
  {
   "cell_type": "markdown",
   "metadata": {},
   "source": [
    "## Customer Analytics \n",
    "\n",
    "### Buying Pattern Analysis\n",
    "\n",
    "### 1. Frequency of Purchase\n",
    "\n",
    "How often do customers purchase. Buying pattern classified into One-time, Intermittent, Frequent"
   ]
  },
  {
   "cell_type": "code",
   "execution_count": 103,
   "metadata": {},
   "outputs": [],
   "source": [
    "import pandas as pd\n",
    "import numpy as np\n",
    "import os\n",
    "\n",
    "df = pd.read_excel('/Users/rajeshpillai/Downloads/Online_Retail.xlsx',skiprows=0,header=0)\n",
    "\n",
    "df = df.dropna()\n",
    "\n"
   ]
  },
  {
   "cell_type": "markdown",
   "metadata": {},
   "source": [
    "#### Define Buying Frequency"
   ]
  },
  {
   "cell_type": "code",
   "execution_count": 104,
   "metadata": {},
   "outputs": [],
   "source": [
    "def buying_freq(count):\n",
    "    \n",
    "    if count ==1:\n",
    "        val = 'one-time'\n",
    "    \n",
    "    elif count >6:\n",
    "        val = 'high-freq'\n",
    "    \n",
    "    else :\n",
    "        val ='intermittent'\n",
    "    \n",
    "    return val"
   ]
  },
  {
   "cell_type": "markdown",
   "metadata": {},
   "source": [
    "#### Define Buying Quantity"
   ]
  },
  {
   "cell_type": "code",
   "execution_count": 105,
   "metadata": {},
   "outputs": [],
   "source": [
    "def qty_freq(Quantity, qty_analysis):\n",
    "    \n",
    "    qty = Quantity\n",
    "    \n",
    "    qty_50 = qty_analysis['50%']\n",
    "    qty_75 = qty_analysis['75%']\n",
    "    \n",
    "    if qty <qty_50:\n",
    "        val = 'low'\n",
    "    \n",
    "    elif qty >qty_75:\n",
    "        val = 'high'\n",
    "    \n",
    "    else :\n",
    "        val ='medium'\n",
    "    \n",
    "    return val"
   ]
  },
  {
   "cell_type": "markdown",
   "metadata": {},
   "source": [
    "#### Analysis"
   ]
  },
  {
   "cell_type": "code",
   "execution_count": 106,
   "metadata": {},
   "outputs": [
    {
     "data": {
      "text/plain": [
       "count    4372.000000\n",
       "mean        5.039799\n",
       "std         9.248607\n",
       "min         1.000000\n",
       "25%         1.000000\n",
       "50%         3.000000\n",
       "75%         5.000000\n",
       "max       248.000000\n",
       "Name: Count, dtype: float64"
      ]
     },
     "execution_count": 106,
     "metadata": {},
     "output_type": "execute_result"
    }
   ],
   "source": [
    "df_invoice_by_customer = df.groupby(by=['CustomerID'])\\\n",
    "                           .InvoiceDate\\\n",
    "                           .nunique()\\\n",
    "                           .reset_index()\\\n",
    "                           .sort_values(by=['InvoiceDate'], ascending=False)\n",
    "\n",
    "\n",
    "df_invoice_by_customer = df_invoice_by_customer.rename(columns={\"InvoiceDate\":\"Count\"})\n",
    "\n",
    "# Reset Index\n",
    "\n",
    "df_invoice_by_customer = df_invoice_by_customer.reset_index()\n",
    "\n",
    "# 5 point summary of data\n",
    "\n",
    "df_invoice_by_customer.Count.describe()\n",
    "\n",
    "# 75% of the distribution is below 5. We can split the bins into 1,2-5,6+ sizes\n",
    "\n",
    "# Write a lamda function to populate the same"
   ]
  },
  {
   "cell_type": "code",
   "execution_count": 107,
   "metadata": {},
   "outputs": [
    {
     "data": {
      "image/png": "[encoded data removed]",
      "text/plain": [
       "<Figure size 432x288 with 1 Axes>"
      ]
     },
     "metadata": {
      "needs_background": "light"
     },
     "output_type": "display_data"
    }
   ],
   "source": [
    "# Plot the data\n",
    "\n",
    "s = df_invoice_by_customer.Count\n",
    "\n",
    "ax = s.plot.kde(bw_method=.5)\n"
   ]
  },
  {
   "cell_type": "code",
   "execution_count": 108,
   "metadata": {},
   "outputs": [
    {
     "data": {
      "text/plain": [
       "<matplotlib.axes._subplots.AxesSubplot at 0x13da600b8>"
      ]
     },
     "execution_count": 108,
     "metadata": {},
     "output_type": "execute_result"
    },
    {
     "data": {
      "image/png": "[encoded data removed]",
      "text/plain": [
       "<Figure size 720x720 with 1 Axes>"
      ]
     },
     "metadata": {
      "needs_background": "light"
     },
     "output_type": "display_data"
    }
   ],
   "source": [
    "# Boxplot\n",
    "\n",
    "df_invoice_by_customer.boxplot(column='Count',\n",
    "                               grid=True,\n",
    "                               figsize=(10,10),\n",
    "                               fontsize=14,\n",
    "                               return_type='axes'\n",
    "                                      \n",
    "                              )"
   ]
  },
  {
   "cell_type": "code",
   "execution_count": 109,
   "metadata": {},
   "outputs": [
    {
     "data": {
      "text/html": [
       "<div>\n",
       "<style scoped>\n",
       "    .dataframe tbody tr th:only-of-type {\n",
       "        vertical-align: middle;\n",
       "    }\n",
       "\n",
       "    .dataframe tbody tr th {\n",
       "        vertical-align: top;\n",
       "    }\n",
       "\n",
       "    .dataframe thead th {\n",
       "        text-align: right;\n",
       "    }\n",
       "</style>\n",
       "<table border=\"1\" class=\"dataframe\">\n",
       "  <thead>\n",
       "    <tr style=\"text-align: right;\">\n",
       "      <th></th>\n",
       "      <th>level_0</th>\n",
       "      <th>index</th>\n",
       "      <th>CustomerID</th>\n",
       "      <th>Count</th>\n",
       "      <th>buying_freq</th>\n",
       "    </tr>\n",
       "  </thead>\n",
       "  <tbody>\n",
       "    <tr>\n",
       "      <th>0</th>\n",
       "      <td>0</td>\n",
       "      <td>1895</td>\n",
       "      <td>14911.0</td>\n",
       "      <td>248</td>\n",
       "      <td>high-freq</td>\n",
       "    </tr>\n",
       "    <tr>\n",
       "      <th>1</th>\n",
       "      <td>1</td>\n",
       "      <td>330</td>\n",
       "      <td>12748.0</td>\n",
       "      <td>225</td>\n",
       "      <td>high-freq</td>\n",
       "    </tr>\n",
       "    <tr>\n",
       "      <th>2</th>\n",
       "      <td>2</td>\n",
       "      <td>4042</td>\n",
       "      <td>17841.0</td>\n",
       "      <td>168</td>\n",
       "      <td>high-freq</td>\n",
       "    </tr>\n",
       "    <tr>\n",
       "      <th>3</th>\n",
       "      <td>3</td>\n",
       "      <td>1674</td>\n",
       "      <td>14606.0</td>\n",
       "      <td>129</td>\n",
       "      <td>high-freq</td>\n",
       "    </tr>\n",
       "    <tr>\n",
       "      <th>4</th>\n",
       "      <td>4</td>\n",
       "      <td>2192</td>\n",
       "      <td>15311.0</td>\n",
       "      <td>118</td>\n",
       "      <td>high-freq</td>\n",
       "    </tr>\n",
       "  </tbody>\n",
       "</table>\n",
       "</div>"
      ],
      "text/plain": [
       "   level_0  index  CustomerID  Count buying_freq\n",
       "0        0   1895     14911.0    248   high-freq\n",
       "1        1    330     12748.0    225   high-freq\n",
       "2        2   4042     17841.0    168   high-freq\n",
       "3        3   1674     14606.0    129   high-freq\n",
       "4        4   2192     15311.0    118   high-freq"
      ]
     },
     "execution_count": 109,
     "metadata": {},
     "output_type": "execute_result"
    }
   ],
   "source": [
    "# Add New column 'buying_freq'\n",
    "\n",
    "df_invoice_by_customer['buying_freq'] = df_invoice_by_customer['Count'].apply(buying_freq)\n",
    "\n",
    "df_invoice_by_customer = df_invoice_by_customer.reset_index()\n",
    "\n",
    "df_invoice_by_customer.head()"
   ]
  },
  {
   "cell_type": "markdown",
   "metadata": {},
   "source": [
    "### 2 Quantity Analysis"
   ]
  },
  {
   "cell_type": "code",
   "execution_count": 110,
   "metadata": {},
   "outputs": [
    {
     "name": "stderr",
     "output_type": "stream",
     "text": [
      "/Users/rajeshpillai/anaconda3/lib/python3.7/site-packages/ipykernel_launcher.py:15: UserWarning: Boolean Series key will be reindexed to match DataFrame index.\n",
      "  from ipykernel import kernelapp as app\n"
     ]
    },
    {
     "data": {
      "text/html": [
       "<div>\n",
       "<style scoped>\n",
       "    .dataframe tbody tr th:only-of-type {\n",
       "        vertical-align: middle;\n",
       "    }\n",
       "\n",
       "    .dataframe tbody tr th {\n",
       "        vertical-align: top;\n",
       "    }\n",
       "\n",
       "    .dataframe thead th {\n",
       "        text-align: right;\n",
       "    }\n",
       "</style>\n",
       "<table border=\"1\" class=\"dataframe\">\n",
       "  <thead>\n",
       "    <tr style=\"text-align: right;\">\n",
       "      <th></th>\n",
       "      <th>CustomerID</th>\n",
       "      <th>StockCode</th>\n",
       "      <th>Quantity</th>\n",
       "    </tr>\n",
       "  </thead>\n",
       "  <tbody>\n",
       "    <tr>\n",
       "      <th>2395</th>\n",
       "      <td>16734.0</td>\n",
       "      <td>84674</td>\n",
       "      <td>1</td>\n",
       "    </tr>\n",
       "    <tr>\n",
       "      <th>2396</th>\n",
       "      <td>16719.0</td>\n",
       "      <td>22501</td>\n",
       "      <td>1</td>\n",
       "    </tr>\n",
       "    <tr>\n",
       "      <th>2397</th>\n",
       "      <td>15039.0</td>\n",
       "      <td>22682</td>\n",
       "      <td>1</td>\n",
       "    </tr>\n",
       "    <tr>\n",
       "      <th>2398</th>\n",
       "      <td>16719.0</td>\n",
       "      <td>22468</td>\n",
       "      <td>1</td>\n",
       "    </tr>\n",
       "    <tr>\n",
       "      <th>2399</th>\n",
       "      <td>13047.0</td>\n",
       "      <td>23118</td>\n",
       "      <td>1</td>\n",
       "    </tr>\n",
       "  </tbody>\n",
       "</table>\n",
       "</div>"
      ],
      "text/plain": [
       "      CustomerID StockCode  Quantity\n",
       "2395     16734.0     84674         1\n",
       "2396     16719.0     22501         1\n",
       "2397     15039.0     22682         1\n",
       "2398     16719.0     22468         1\n",
       "2399     13047.0     23118         1"
      ]
     },
     "execution_count": 110,
     "metadata": {},
     "output_type": "execute_result"
    }
   ],
   "source": [
    "df_quantity_analysis = df.copy()\n",
    "\n",
    "df_quantity_analysis = df_quantity_analysis[['CustomerID','StockCode','Quantity']]\n",
    "\n",
    "# Aggregate by Customer\n",
    "\n",
    "df_quantity_analysis = df_quantity_analysis\\\n",
    "                                        .groupby(by=['CustomerID','StockCode'])\\\n",
    "                                        .Quantity\\\n",
    "                                        .sum()\\\n",
    "                                        .sort_values(ascending=True)\\\n",
    "                                        .reset_index()\n",
    "# Drop negative quantities as it is not relevant for analysis\n",
    "\n",
    "df_quantity_analysis = df_quantity_analysis[(df_quantity_analysis.Quantity.sort_values()<5000) & (df_quantity_analysis.Quantity.sort_values()>0)]\n",
    "                                            \n",
    "\n",
    "df_quantity_analysis.head()\n",
    "\n",
    "\n",
    "\n",
    "\n",
    "\n"
   ]
  },
  {
   "cell_type": "markdown",
   "metadata": {},
   "source": [
    "We see that the outliers beyond 3000 are not required since those transactions have been cancelled out.\n",
    "So we remove all quantities below 0"
   ]
  },
  {
   "cell_type": "code",
   "execution_count": 111,
   "metadata": {},
   "outputs": [
    {
     "data": {
      "text/plain": [
       "<matplotlib.axes._subplots.AxesSubplot at 0x1413f1438>"
      ]
     },
     "execution_count": 111,
     "metadata": {},
     "output_type": "execute_result"
    },
    {
     "data": {
      "image/png": "[encoded data removed]",
      "text/plain": [
       "<Figure size 720x720 with 1 Axes>"
      ]
     },
     "metadata": {
      "needs_background": "light"
     },
     "output_type": "display_data"
    }
   ],
   "source": [
    "df_quantity_analysis.boxplot(column='Quantity',\n",
    "                               grid=True,\n",
    "                               figsize=(10,10),\n",
    "                               fontsize=14,\n",
    "                               return_type='axes'\n",
    "                                      \n",
    "                              )"
   ]
  },
  {
   "cell_type": "code",
   "execution_count": 112,
   "metadata": {},
   "outputs": [],
   "source": [
    "#df_quantity_analysis.Quantity.plot.kde()"
   ]
  },
  {
   "cell_type": "code",
   "execution_count": 113,
   "metadata": {},
   "outputs": [
    {
     "data": {
      "text/plain": [
       "<matplotlib.axes._subplots.AxesSubplot at 0x14045ed30>"
      ]
     },
     "execution_count": 113,
     "metadata": {},
     "output_type": "execute_result"
    },
    {
     "data": {
      "image/png": "[encoded data removed]",
      "text/plain": [
       "<Figure size 720x720 with 1 Axes>"
      ]
     },
     "metadata": {
      "needs_background": "light"
     },
     "output_type": "display_data"
    }
   ],
   "source": [
    "df_quantity_analysis.boxplot(column='Quantity',\n",
    "                               grid=True,\n",
    "                               figsize=(10,10),\n",
    "                               fontsize=14,\n",
    "                               return_type='axes'\n",
    "                                      \n",
    "                              )"
   ]
  },
  {
   "cell_type": "code",
   "execution_count": 114,
   "metadata": {},
   "outputs": [
    {
     "data": {
      "text/plain": [
       "count    265207.000000\n",
       "mean         18.205847\n",
       "std          77.561413\n",
       "min           1.000000\n",
       "25%           2.000000\n",
       "50%           6.000000\n",
       "75%          12.000000\n",
       "max        4801.000000\n",
       "Name: Quantity, dtype: float64"
      ]
     },
     "execution_count": 114,
     "metadata": {},
     "output_type": "execute_result"
    }
   ],
   "source": [
    "df_quantity_analysis.Quantity.describe()"
   ]
  },
  {
   "cell_type": "code",
   "execution_count": 115,
   "metadata": {},
   "outputs": [
    {
     "data": {
      "text/plain": [
       "{'count': 265207.0,\n",
       " 'mean': 18.20584675366789,\n",
       " 'std': 77.56141287317637,\n",
       " 'min': 1.0,\n",
       " '25%': 2.0,\n",
       " '50%': 6.0,\n",
       " '75%': 12.0,\n",
       " 'max': 4801.0}"
      ]
     },
     "execution_count": 115,
     "metadata": {},
     "output_type": "execute_result"
    }
   ],
   "source": [
    "qty_analysis = df_quantity_analysis.Quantity.describe().to_dict()\n",
    "\n",
    "qty_analysis"
   ]
  },
  {
   "cell_type": "code",
   "execution_count": 116,
   "metadata": {},
   "outputs": [
    {
     "data": {
      "text/plain": [
       "2.0"
      ]
     },
     "execution_count": 116,
     "metadata": {},
     "output_type": "execute_result"
    }
   ],
   "source": [
    "qty_analysis['25%']"
   ]
  },
  {
   "cell_type": "code",
   "execution_count": 117,
   "metadata": {},
   "outputs": [
    {
     "data": {
      "text/plain": [
       "count     158.000000\n",
       "mean       43.873418\n",
       "std       250.201874\n",
       "min         1.000000\n",
       "25%         9.000000\n",
       "50%        18.000000\n",
       "75%        18.000000\n",
       "max      3114.000000\n",
       "Name: Quantity, dtype: float64"
      ]
     },
     "execution_count": 117,
     "metadata": {},
     "output_type": "execute_result"
    },
    {
     "data": {
      "image/png": "[encoded data removed]",
      "text/plain": [
       "<Figure size 432x288 with 1 Axes>"
      ]
     },
     "metadata": {
      "needs_background": "light"
     },
     "output_type": "display_data"
    }
   ],
   "source": [
    "# Product wise quantity distribution\n",
    "\n",
    "df_quantity_analysis[df_quantity_analysis.StockCode==21108].Quantity.hist(bins=20)\n",
    "\n",
    "\n",
    "df_quantity_analysis[df_quantity_analysis.StockCode==21108].Quantity.describe()"
   ]
  },
  {
   "cell_type": "code",
   "execution_count": 119,
   "metadata": {},
   "outputs": [
    {
     "data": {
      "text/html": [
       "<div>\n",
       "<style scoped>\n",
       "    .dataframe tbody tr th:only-of-type {\n",
       "        vertical-align: middle;\n",
       "    }\n",
       "\n",
       "    .dataframe tbody tr th {\n",
       "        vertical-align: top;\n",
       "    }\n",
       "\n",
       "    .dataframe thead th {\n",
       "        text-align: right;\n",
       "    }\n",
       "</style>\n",
       "<table border=\"1\" class=\"dataframe\">\n",
       "  <thead>\n",
       "    <tr style=\"text-align: right;\">\n",
       "      <th></th>\n",
       "      <th>level_0</th>\n",
       "      <th>index</th>\n",
       "      <th>CustomerID</th>\n",
       "      <th>StockCode</th>\n",
       "      <th>Quantity</th>\n",
       "      <th>qty</th>\n",
       "    </tr>\n",
       "  </thead>\n",
       "  <tbody>\n",
       "    <tr>\n",
       "      <th>0</th>\n",
       "      <td>0</td>\n",
       "      <td>2395</td>\n",
       "      <td>16734.0</td>\n",
       "      <td>84674</td>\n",
       "      <td>1</td>\n",
       "      <td>low</td>\n",
       "    </tr>\n",
       "    <tr>\n",
       "      <th>1</th>\n",
       "      <td>1</td>\n",
       "      <td>2396</td>\n",
       "      <td>16719.0</td>\n",
       "      <td>22501</td>\n",
       "      <td>1</td>\n",
       "      <td>low</td>\n",
       "    </tr>\n",
       "    <tr>\n",
       "      <th>2</th>\n",
       "      <td>2</td>\n",
       "      <td>2397</td>\n",
       "      <td>15039.0</td>\n",
       "      <td>22682</td>\n",
       "      <td>1</td>\n",
       "      <td>low</td>\n",
       "    </tr>\n",
       "    <tr>\n",
       "      <th>3</th>\n",
       "      <td>3</td>\n",
       "      <td>2398</td>\n",
       "      <td>16719.0</td>\n",
       "      <td>22468</td>\n",
       "      <td>1</td>\n",
       "      <td>low</td>\n",
       "    </tr>\n",
       "    <tr>\n",
       "      <th>4</th>\n",
       "      <td>4</td>\n",
       "      <td>2399</td>\n",
       "      <td>13047.0</td>\n",
       "      <td>23118</td>\n",
       "      <td>1</td>\n",
       "      <td>low</td>\n",
       "    </tr>\n",
       "  </tbody>\n",
       "</table>\n",
       "</div>"
      ],
      "text/plain": [
       "   level_0  index  CustomerID StockCode  Quantity  qty\n",
       "0        0   2395     16734.0     84674         1  low\n",
       "1        1   2396     16719.0     22501         1  low\n",
       "2        2   2397     15039.0     22682         1  low\n",
       "3        3   2398     16719.0     22468         1  low\n",
       "4        4   2399     13047.0     23118         1  low"
      ]
     },
     "execution_count": 119,
     "metadata": {},
     "output_type": "execute_result"
    }
   ],
   "source": [
    "# Add New column 'qty'\n",
    "\n",
    "\n",
    "df_quantity_analysis['qty'] = df_quantity_analysis\\\n",
    "                                                  .apply(lambda df_quantity_analysis:qty_freq(df_quantity_analysis['Quantity'],\\\n",
    "                                                    qty_analysis), axis=1)\n",
    "\n",
    "df_quantity_analysis = df_quantity_analysis.reset_index()\n",
    "\n",
    "df_quantity_analysis.head()"
   ]
  },
  {
   "cell_type": "markdown",
   "metadata": {},
   "source": [
    "### Basket Analysis\n",
    "\n",
    "#### a: High b: Mid c: Low\n",
    "\n",
    "### Analysis\n",
    "\n",
    "What we explore is to find Customers who buy expensive, mid range and low price items.\n",
    "In the present analysis we do not have product categorisation, so we cannot compare within individual categories.\n"
   ]
  },
  {
   "cell_type": "code",
   "execution_count": null,
   "metadata": {},
   "outputs": [],
   "source": [
    "def price_range(UnitPrice, qty_analysis):\n",
    "    \n",
    "    qty = Quantity\n",
    "    \n",
    "    qty_50 = qty_analysis['50%']\n",
    "    qty_75 = qty_analysis['75%']\n",
    "    \n",
    "    if qty <qty_50:\n",
    "        val = 'low'\n",
    "    \n",
    "    elif qty >qty_75:\n",
    "        val = 'high'\n",
    "    \n",
    "    else :\n",
    "        val ='medium'\n",
    "    \n",
    "    return val"
   ]
  },
  {
   "cell_type": "code",
   "execution_count": 120,
   "metadata": {},
   "outputs": [
    {
     "data": {
      "text/html": [
       "<div>\n",
       "<style scoped>\n",
       "    .dataframe tbody tr th:only-of-type {\n",
       "        vertical-align: middle;\n",
       "    }\n",
       "\n",
       "    .dataframe tbody tr th {\n",
       "        vertical-align: top;\n",
       "    }\n",
       "\n",
       "    .dataframe thead th {\n",
       "        text-align: right;\n",
       "    }\n",
       "</style>\n",
       "<table border=\"1\" class=\"dataframe\">\n",
       "  <thead>\n",
       "    <tr style=\"text-align: right;\">\n",
       "      <th></th>\n",
       "      <th>InvoiceNo</th>\n",
       "      <th>StockCode</th>\n",
       "      <th>Description</th>\n",
       "      <th>Quantity</th>\n",
       "      <th>InvoiceDate</th>\n",
       "      <th>UnitPrice</th>\n",
       "      <th>CustomerID</th>\n",
       "      <th>Country</th>\n",
       "    </tr>\n",
       "  </thead>\n",
       "  <tbody>\n",
       "    <tr>\n",
       "      <th>0</th>\n",
       "      <td>536365</td>\n",
       "      <td>85123A</td>\n",
       "      <td>WHITE HANGING HEART T-LIGHT HOLDER</td>\n",
       "      <td>6</td>\n",
       "      <td>2010-12-01 08:26:00</td>\n",
       "      <td>2.55</td>\n",
       "      <td>17850.0</td>\n",
       "      <td>United Kingdom</td>\n",
       "    </tr>\n",
       "    <tr>\n",
       "      <th>1</th>\n",
       "      <td>536365</td>\n",
       "      <td>71053</td>\n",
       "      <td>WHITE METAL LANTERN</td>\n",
       "      <td>6</td>\n",
       "      <td>2010-12-01 08:26:00</td>\n",
       "      <td>3.39</td>\n",
       "      <td>17850.0</td>\n",
       "      <td>United Kingdom</td>\n",
       "    </tr>\n",
       "    <tr>\n",
       "      <th>2</th>\n",
       "      <td>536365</td>\n",
       "      <td>84406B</td>\n",
       "      <td>CREAM CUPID HEARTS COAT HANGER</td>\n",
       "      <td>8</td>\n",
       "      <td>2010-12-01 08:26:00</td>\n",
       "      <td>2.75</td>\n",
       "      <td>17850.0</td>\n",
       "      <td>United Kingdom</td>\n",
       "    </tr>\n",
       "    <tr>\n",
       "      <th>3</th>\n",
       "      <td>536365</td>\n",
       "      <td>84029G</td>\n",
       "      <td>KNITTED UNION FLAG HOT WATER BOTTLE</td>\n",
       "      <td>6</td>\n",
       "      <td>2010-12-01 08:26:00</td>\n",
       "      <td>3.39</td>\n",
       "      <td>17850.0</td>\n",
       "      <td>United Kingdom</td>\n",
       "    </tr>\n",
       "    <tr>\n",
       "      <th>4</th>\n",
       "      <td>536365</td>\n",
       "      <td>84029E</td>\n",
       "      <td>RED WOOLLY HOTTIE WHITE HEART.</td>\n",
       "      <td>6</td>\n",
       "      <td>2010-12-01 08:26:00</td>\n",
       "      <td>3.39</td>\n",
       "      <td>17850.0</td>\n",
       "      <td>United Kingdom</td>\n",
       "    </tr>\n",
       "  </tbody>\n",
       "</table>\n",
       "</div>"
      ],
      "text/plain": [
       "  InvoiceNo StockCode                          Description  Quantity  \\\n",
       "0    536365    85123A   WHITE HANGING HEART T-LIGHT HOLDER         6   \n",
       "1    536365     71053                  WHITE METAL LANTERN         6   \n",
       "2    536365    84406B       CREAM CUPID HEARTS COAT HANGER         8   \n",
       "3    536365    84029G  KNITTED UNION FLAG HOT WATER BOTTLE         6   \n",
       "4    536365    84029E       RED WOOLLY HOTTIE WHITE HEART.         6   \n",
       "\n",
       "          InvoiceDate  UnitPrice  CustomerID         Country  \n",
       "0 2010-12-01 08:26:00       2.55     17850.0  United Kingdom  \n",
       "1 2010-12-01 08:26:00       3.39     17850.0  United Kingdom  \n",
       "2 2010-12-01 08:26:00       2.75     17850.0  United Kingdom  \n",
       "3 2010-12-01 08:26:00       3.39     17850.0  United Kingdom  \n",
       "4 2010-12-01 08:26:00       3.39     17850.0  United Kingdom  "
      ]
     },
     "execution_count": 120,
     "metadata": {},
     "output_type": "execute_result"
    }
   ],
   "source": [
    "df.head()"
   ]
  },
  {
   "cell_type": "code",
   "execution_count": 123,
   "metadata": {},
   "outputs": [
    {
     "name": "stderr",
     "output_type": "stream",
     "text": [
      "/Users/rajeshpillai/anaconda3/lib/python3.7/site-packages/ipykernel_launcher.py:16: UserWarning: Boolean Series key will be reindexed to match DataFrame index.\n",
      "  app.launch_new_instance()\n"
     ]
    },
    {
     "data": {
      "text/html": [
       "<div>\n",
       "<style scoped>\n",
       "    .dataframe tbody tr th:only-of-type {\n",
       "        vertical-align: middle;\n",
       "    }\n",
       "\n",
       "    .dataframe tbody tr th {\n",
       "        vertical-align: top;\n",
       "    }\n",
       "\n",
       "    .dataframe thead th {\n",
       "        text-align: right;\n",
       "    }\n",
       "</style>\n",
       "<table border=\"1\" class=\"dataframe\">\n",
       "  <thead>\n",
       "    <tr style=\"text-align: right;\">\n",
       "      <th></th>\n",
       "      <th>CustomerID</th>\n",
       "      <th>StockCode</th>\n",
       "      <th>UnitPrice</th>\n",
       "    </tr>\n",
       "  </thead>\n",
       "  <tbody>\n",
       "    <tr>\n",
       "      <th>55312</th>\n",
       "      <td>14298.0</td>\n",
       "      <td>21641</td>\n",
       "      <td>1.01</td>\n",
       "    </tr>\n",
       "    <tr>\n",
       "      <th>55313</th>\n",
       "      <td>12748.0</td>\n",
       "      <td>22049</td>\n",
       "      <td>1.03</td>\n",
       "    </tr>\n",
       "    <tr>\n",
       "      <th>55314</th>\n",
       "      <td>17920.0</td>\n",
       "      <td>22544</td>\n",
       "      <td>1.03</td>\n",
       "    </tr>\n",
       "    <tr>\n",
       "      <th>55315</th>\n",
       "      <td>14298.0</td>\n",
       "      <td>22610</td>\n",
       "      <td>1.03</td>\n",
       "    </tr>\n",
       "    <tr>\n",
       "      <th>55316</th>\n",
       "      <td>17920.0</td>\n",
       "      <td>22541</td>\n",
       "      <td>1.03</td>\n",
       "    </tr>\n",
       "  </tbody>\n",
       "</table>\n",
       "</div>"
      ],
      "text/plain": [
       "       CustomerID StockCode  UnitPrice\n",
       "55312     14298.0     21641       1.01\n",
       "55313     12748.0     22049       1.03\n",
       "55314     17920.0     22544       1.03\n",
       "55315     14298.0     22610       1.03\n",
       "55316     17920.0     22541       1.03"
      ]
     },
     "execution_count": 123,
     "metadata": {},
     "output_type": "execute_result"
    }
   ],
   "source": [
    "df_price_analysis = df.copy()\n",
    "\n",
    "df_price_analysis = df_price_analysis[['CustomerID','StockCode','UnitPrice']]\n",
    "\n",
    "# Aggregate by Customer\n",
    "\n",
    "df_price_analysis = df_price_analysis\\\n",
    "                                    .groupby(by=['CustomerID','StockCode'])\\\n",
    "                                    .UnitPrice\\\n",
    "                                    .sum()\\\n",
    "                                    .sort_values(ascending=True)\\\n",
    "                                    .reset_index()\n",
    "\n",
    "# Drop negative or zero price as it is not relevant for analysis\n",
    "\n",
    "df_price_analysis = df_price_analysis[(df_price_analysis.UnitPrice.sort_values()>1)]\n",
    "\n",
    "# \n",
    "df_price_analysis.head()"
   ]
  },
  {
   "cell_type": "code",
   "execution_count": 140,
   "metadata": {},
   "outputs": [
    {
     "ename": "AttributeError",
     "evalue": "'numpy.ndarray' object has no attribute 'normal'",
     "output_type": "error",
     "traceback": [
      "\u001b[0;31m---------------------------------------------------------------------------\u001b[0m",
      "\u001b[0;31mAttributeError\u001b[0m                            Traceback (most recent call last)",
      "\u001b[0;32m<ipython-input-140-adec2fa1b28a>\u001b[0m in \u001b[0;36m<module>\u001b[0;34m\u001b[0m\n\u001b[1;32m      3\u001b[0m \u001b[0mprices\u001b[0m \u001b[0;34m=\u001b[0m \u001b[0mdf_price_analysis\u001b[0m\u001b[0;34m.\u001b[0m\u001b[0mUnitPrice\u001b[0m\u001b[0;34m.\u001b[0m\u001b[0msort_values\u001b[0m\u001b[0;34m(\u001b[0m\u001b[0;34m)\u001b[0m\u001b[0;34m.\u001b[0m\u001b[0munique\u001b[0m\u001b[0;34m(\u001b[0m\u001b[0;34m)\u001b[0m\u001b[0;34m\u001b[0m\u001b[0;34m\u001b[0m\u001b[0m\n\u001b[1;32m      4\u001b[0m \u001b[0;34m\u001b[0m\u001b[0m\n\u001b[0;32m----> 5\u001b[0;31m a = np.hstack((prices.normal(size=1000),\n\u001b[0m\u001b[1;32m      6\u001b[0m                prices.normal(loc=5, scale=2, size=1000)))\n\u001b[1;32m      7\u001b[0m \u001b[0;34m\u001b[0m\u001b[0m\n",
      "\u001b[0;31mAttributeError\u001b[0m: 'numpy.ndarray' object has no attribute 'normal'"
     ]
    }
   ],
   "source": [
    "import matplotlib.pyplot as plt\n",
    "\n",
    "prices = df_price_analysis.UnitPrice.sort_values().unique()\n",
    "\n",
    "a = np.hstack((prices.normal(size=1000),\n",
    "               prices.normal(loc=5, scale=2, size=1000)))\n",
    "\n",
    "_ = plt.hist(a, bins=3)  # arguments are passed to np.histogram\n",
    "\n",
    "plt.title(\"Histogram with 3 bins\")\n",
    "\n",
    "plt.show()\n"
   ]
  },
  {
   "cell_type": "code",
   "execution_count": 144,
   "metadata": {},
   "outputs": [
    {
     "data": {
      "text/plain": [
       "array([    1,     2,     3,     4,     5,     6,     7,     8,     9,\n",
       "          10,    11,    12,    13,    14,    15,    16,    17,    18,\n",
       "          19,    20,    21,    22,    23,    24,    25,    26,    27,\n",
       "          28,    29,    30,    31,    32,    33,    34,    35,    36,\n",
       "          37,    38,    39,    40,    41,    42,    43,    44,    45,\n",
       "          46,    47,    48,    49,    50,    51,    52,    53,    54,\n",
       "          55,    56,    57,    58,    59,    60,    61,    62,    63,\n",
       "          64,    65,    66,    67,    68,    69,    70,    71,    72,\n",
       "          73,    74,    75,    76,    77,    78,    79,    80,    81,\n",
       "          82,    83,    84,    85,    86,    87,    88,    89,    90,\n",
       "          91,    92,    93,    94,    95,    96,    97,    98,    99,\n",
       "         100,   101,   102,   103,   104,   105,   106,   107,   108,\n",
       "         109,   110,   111,   112,   115,   116,   119,   120,   121,\n",
       "         122,   124,   125,   126,   127,   128,   129,   130,   133,\n",
       "         134,   135,   136,   137,   138,   139,   140,   144,   145,\n",
       "         148,   149,   150,   151,   153,   158,   159,   160,   161,\n",
       "         162,   165,   166,   168,   170,   175,   176,   178,   180,\n",
       "         183,   189,   195,   197,   198,   199,   200,   201,   202,\n",
       "         206,   208,   210,   216,   219,   223,   234,   240,   247,\n",
       "         250,   252,   253,   255,   258,   267,   270,   276,   280,\n",
       "         283,   286,   288,   290,   293,   295,   300,   309,   310,\n",
       "         316,   324,   330,   334,   341,   345,   349,   352,   355,\n",
       "         360,   365,   390,   414,   435,   446,   465,   470,   475,\n",
       "         476,   511,   522,   523,   551,   585,   586,   590,   594,\n",
       "         612,   613,   641,   650,   669,   682,   685,   686,   689,\n",
       "         700,   715,   717,   779,   822,   853,   930,   938,  1006,\n",
       "        1121,  1126,  1140,  1199,  1244,  1248,  1309,  1354,  1592,\n",
       "        1652,  1681,  1716,  1928,  1988,  2033,  2068,  2273,  3208,\n",
       "        3219,  4058,  4225,  4288,  6749,  6925,  7009,  7215,  7933,\n",
       "       11906, 12493, 16286, 24318, 38970])"
      ]
     },
     "execution_count": 144,
     "metadata": {},
     "output_type": "execute_result"
    }
   ],
   "source": [
    "prices = df_price_analysis.UnitPrice.round(0).astype('int').unique()\n",
    "\n",
    "prices"
   ]
  },
  {
   "cell_type": "code",
   "execution_count": 145,
   "metadata": {},
   "outputs": [
    {
     "ename": "AttributeError",
     "evalue": "'numpy.ndarray' object has no attribute 'describe'",
     "output_type": "error",
     "traceback": [
      "\u001b[0;31m---------------------------------------------------------------------------\u001b[0m",
      "\u001b[0;31mAttributeError\u001b[0m                            Traceback (most recent call last)",
      "\u001b[0;32m<ipython-input-145-daa6c2b0af8f>\u001b[0m in \u001b[0;36m<module>\u001b[0;34m\u001b[0m\n\u001b[0;32m----> 1\u001b[0;31m \u001b[0mprices\u001b[0m\u001b[0;34m.\u001b[0m\u001b[0mdescribe\u001b[0m\u001b[0;34m(\u001b[0m\u001b[0;34m)\u001b[0m\u001b[0;34m\u001b[0m\u001b[0;34m\u001b[0m\u001b[0m\n\u001b[0m",
      "\u001b[0;31mAttributeError\u001b[0m: 'numpy.ndarray' object has no attribute 'describe'"
     ]
    }
   ],
   "source": [
    "prices"
   ]
  },
  {
   "cell_type": "code",
   "execution_count": null,
   "metadata": {},
   "outputs": [],
   "source": []
  }
 ],
 "metadata": {
  "kernelspec": {
   "display_name": "Python 3",
   "language": "python",
   "name": "python3"
  },
  "language_info": {
   "codemirror_mode": {
    "name": "ipython",
    "version": 3
   },
   "file_extension": ".py",
   "mimetype": "text/x-python",
   "name": "python",
   "nbconvert_exporter": "python",
   "pygments_lexer": "ipython3",
   "version": "3.7.3"
  }
 },
 "nbformat": 4,
 "nbformat_minor": 2
}
